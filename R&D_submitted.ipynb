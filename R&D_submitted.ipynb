{
  "cells": [
    {
      "cell_type": "code",
      "execution_count": 1,
      "metadata": {
        "id": "YEVxH7uPxOzP",
        "colab": {
          "base_uri": "https://localhost:8080/"
        },
        "outputId": "34c50b57-34f2-4ec4-9299-e109955f684a"
      },
      "outputs": [
        {
          "output_type": "stream",
          "name": "stdout",
          "text": [
            "Mounted at /content/drive\n"
          ]
        }
      ],
      "source": [
        "from google.colab import drive\n",
        "drive.mount('/content/drive')"
      ]
    },
    {
      "cell_type": "code",
      "execution_count": 2,
      "metadata": {
        "id": "BFpeGWHK4xML",
        "colab": {
          "base_uri": "https://localhost:8080/"
        },
        "outputId": "c7c8bd66-61a7-4b61-840e-6ff979e406a9"
      },
      "outputs": [
        {
          "output_type": "stream",
          "name": "stdout",
          "text": [
            "/bin/bash: D/load_data.py: No such file or directory\n",
            "python3: can't open file '/content/drive/MyDrive/R': [Errno 2] No such file or directory\n"
          ]
        }
      ],
      "source": [
        "!python3 /content/drive/MyDrive/R&D/load_data.py"
      ]
    },
    {
      "cell_type": "code",
      "execution_count": 3,
      "metadata": {
        "id": "HEiaUOAupV-t"
      },
      "outputs": [],
      "source": [
        "import gzip\n",
        "import itertools\n",
        "import string\n",
        "import wordcloud\n",
        "import numpy as np\n",
        "import pandas as pd\n",
        "import datetime as dt\n",
        "import matplotlib.pyplot as plt\n",
        "import pylab as pl\n",
        "\n",
        "from collections import Counter\n",
        "from sklearn import svm\n",
        "from sklearn.pipeline import Pipeline, make_pipeline\n",
        "from sklearn.linear_model import LogisticRegression\n",
        "from sklearn.feature_extraction.text import CountVectorizer, TfidfVectorizer\n",
        "from sklearn.decomposition import NMF, LatentDirichletAllocation\n",
        "from sklearn.naive_bayes import MultinomialNB\n",
        "from sklearn.model_selection import train_test_split, cross_val_score\n",
        "from sklearn.model_selection import GridSearchCV\n",
        "from sklearn.metrics import accuracy_score, confusion_matrix, f1_score\n",
        "\n",
        "from nltk import word_tokenize\n",
        "from nltk.corpus import stopwords\n",
        "from nltk.stem.wordnet import WordNetLemmatizer\n",
        "\n",
        "%matplotlib inline"
      ]
    },
    {
      "cell_type": "code",
      "execution_count": 4,
      "metadata": {
        "id": "qEpjZ1x_bxEY"
      },
      "outputs": [],
      "source": [
        "import tensorflow as tf\n",
        "tf.compat.v1.enable_eager_execution()"
      ]
    },
    {
      "cell_type": "code",
      "execution_count": 7,
      "metadata": {
        "id": "JuNqZami42gI"
      },
      "outputs": [],
      "source": [
        "# Code provided via http://jmcauley.ucsd.edu/data/amazon/\n",
        "\n",
        "def parse_gz(path):\n",
        "    g = gzip.open(path, 'rb')\n",
        "    for l in g:\n",
        "        yield eval(l)\n",
        "\n",
        "def convert_to_DF(path):\n",
        "    i = 0\n",
        "    df = {}\n",
        "    for d in parse_gz(path):\n",
        "        df[i] = d\n",
        "        i += 1\n",
        "    return pd.DataFrame.from_dict(df, orient='index')"
      ]
    },
    {
      "cell_type": "code",
      "source": [
        "df = pd.read_csv(\"/content/drive/MyDrive/R&D/Amazon_multi_domain.csv\")"
      ],
      "metadata": {
        "id": "owBMYSzwuuii"
      },
      "execution_count": 7,
      "outputs": []
    },
    {
      "cell_type": "code",
      "source": [
        "df.shape"
      ],
      "metadata": {
        "colab": {
          "base_uri": "https://localhost:8080/"
        },
        "id": "42QnSCXRvh7N",
        "outputId": "5c273352-64f7-42a5-e9e4-13a5966dfcb7"
      },
      "execution_count": null,
      "outputs": [
        {
          "output_type": "execute_result",
          "data": {
            "text/plain": [
              "(20000, 6)"
            ]
          },
          "metadata": {},
          "execution_count": 78
        }
      ]
    },
    {
      "cell_type": "code",
      "execution_count": 8,
      "metadata": {
        "id": "hcOVSpjB45PP"
      },
      "outputs": [],
      "source": [
        "#sports_outdoors = convert_to_DF('/content/drive/MyDrive/R&D/reviews_Sports_and_Outdoors_5.json.gz')\n",
        "#electronics = convert_to_DF('/content/drive/MyDrive/R&D/reviews_Digital_Music_5.json.gz')\n",
        "#kindle_store = convert_to_DF('/content/drive/MyDrive/R&D/reviews_Kindle_Store_5.json.gz')\n",
        "#health = convert_to_DF('/content/drive/MyDrive/R&D/reviews_Health_and_Personal_Care_5.json.gz')\n",
        "#video_games = convert_to_DF('/content/drive/MyDrive/R&D/reviews_Video_Games_5.json.gz')"
      ]
    },
    {
      "cell_type": "code",
      "execution_count": 8,
      "metadata": {
        "id": "mUnQ-W3WNpD1"
      },
      "outputs": [],
      "source": [
        "num = [4.0, 5.0]\n",
        "sports_outdoors_4_5 = sports_outdoors[sports_outdoors.overall.isin(num)]     #筛选出overall列值在num列表的数据条\n",
        "sports_outdoors_4_5 = sports_outdoors_4_5.sample(frac = 1)\n",
        "sports_outdoors_4_5 = sports_outdoors_4_5[:10000]\n",
        "\n",
        "num = [1.0, 2.0]\n",
        "sports_outdoors_1_2 = sports_outdoors[sports_outdoors.overall.isin(num)]     #筛选出overall列值在num列表的数据条\n",
        "sports_outdoors_1_2 = sports_outdoors_1_2.sample(frac = 1)\n",
        "sports_outdoors_1_2 = sports_outdoors_1_2[:10000]\n",
        "\n",
        "sports_outdoors = sports_outdoors_1_2.append(sports_outdoors_4_5)\n"
      ]
    },
    {
      "cell_type": "code",
      "source": [
        "num = [4.0, 5.0]\n",
        "health_4_5 = health[health.overall.isin(num)]     \n",
        "health_4_5 = health_4_5.sample(frac = 1)\n",
        "health_4_5 = health_4_5[:10000]\n",
        "\n",
        "num = [1.0, 2.0]\n",
        "health_1_2 = health[health.overall.isin(num)]    \n",
        "health_1_2 = health_1_2.sample(frac = 1)\n",
        "health_1_2 = health_1_2[:10000]\n",
        "\n",
        "health = health_1_2.append(health_4_5)"
      ],
      "metadata": {
        "id": "LpbkVc0Ub_MG"
      },
      "execution_count": 9,
      "outputs": []
    },
    {
      "cell_type": "code",
      "source": [
        "num = [4.0, 5.0]\n",
        "kindle_store_4_5 = kindle_store[kindle_store.overall.isin(num)]     \n",
        "kindle_store_4_5 = kindle_store_4_5.sample(frac = 1)\n",
        "kindle_store_4_5 = kindle_store_4_5[:10000]\n",
        "print(len(kindle_store_4_5))\n",
        "num = [1.0, 2.0]\n",
        "kindle_store_1_2 = kindle_store[kindle_store.overall.isin(num)]     \n",
        "kindle_store_1_2 = kindle_store_1_2.sample(frac = 1)\n",
        "kindle_store_1_2 = kindle_store_1_2[:10000]\n",
        "print(len(kindle_store_1_2))\n",
        "kindle_store = kindle_store_1_2.append(kindle_store_4_5)"
      ],
      "metadata": {
        "id": "d5BGJXOxliGd",
        "colab": {
          "base_uri": "https://localhost:8080/"
        },
        "outputId": "2b39bed5-e261-42cf-be7b-3ca17286db91"
      },
      "execution_count": 58,
      "outputs": [
        {
          "output_type": "stream",
          "name": "stdout",
          "text": [
            "10000\n",
            "10000\n"
          ]
        }
      ]
    },
    {
      "cell_type": "code",
      "source": [
        "num = [4.0, 5.0]\n",
        "electronics_4_5 = electronics[electronics.overall.isin(num)]     \n",
        "electronics_4_5 = electronics_4_5.sample(frac = 1)\n",
        "electronics_4_5 = electronics_4_5[:10000]\n",
        "print(len(electronics_4_5))\n",
        "num = [1.0, 2.0]\n",
        "electronics_1_2 = electronics[electronics.overall.isin(num)]     \n",
        "electronics_1_2 = electronics_1_2.sample(frac = 1)\n",
        "electronics_1_2 = electronics_1_2[:10000]\n",
        "print(len(electronics_1_2))\n",
        "\n",
        "electronics = electronics_1_2.append(electronics_4_5)"
      ],
      "metadata": {
        "colab": {
          "base_uri": "https://localhost:8080/"
        },
        "outputId": "3a346c95-b298-4b5b-a16c-10d001a44b89",
        "id": "6kIg7_zYnJju"
      },
      "execution_count": 55,
      "outputs": [
        {
          "output_type": "stream",
          "name": "stdout",
          "text": [
            "10000\n",
            "5801\n"
          ]
        }
      ]
    },
    {
      "cell_type": "code",
      "source": [
        "num = [4.0, 5.0]\n",
        "video_games_4_5 = video_games[video_games.overall.isin(num)]     \n",
        "video_games_4_5 = video_games_4_5.sample(frac = 1)\n",
        "video_games_4_5 = video_games_4_5[:10000]\n",
        "print(len(video_games_4_5))\n",
        "num = [1.0, 2.0]\n",
        "video_games_1_2 = video_games[video_games.overall.isin(num)]     \n",
        "video_games_1_2 = video_games_1_2.sample(frac = 1)\n",
        "video_games_1_2 = video_games_1_2[:10000]\n",
        "print(len(video_games_1_2))\n",
        "\n",
        "video_games = video_games_1_2.append(video_games_4_5)"
      ],
      "metadata": {
        "colab": {
          "base_uri": "https://localhost:8080/"
        },
        "outputId": "8a330f37-5918-4043-a071-c97ca90d52ab",
        "id": "8pGjqn1kyfbN"
      },
      "execution_count": 65,
      "outputs": [
        {
          "output_type": "stream",
          "name": "stdout",
          "text": [
            "10000\n",
            "10000\n"
          ]
        }
      ]
    },
    {
      "cell_type": "code",
      "source": [
        "df_data = pd.concat([sports_outdoors,health,kindle_store,electronics],axis=0)"
      ],
      "metadata": {
        "id": "NxLNri9KtA3-"
      },
      "execution_count": null,
      "outputs": []
    },
    {
      "cell_type": "code",
      "source": [
        "#df_data.shape"
      ],
      "metadata": {
        "id": "oRtgqnXmtJTW"
      },
      "execution_count": null,
      "outputs": []
    },
    {
      "cell_type": "code",
      "execution_count": null,
      "metadata": {
        "colab": {
          "base_uri": "https://localhost:8080/",
          "height": 300
        },
        "id": "qlKoBSQjKbA2",
        "outputId": "265787c8-4277-4f13-e35e-26dc48aa10c8"
      },
      "outputs": [
        {
          "output_type": "execute_result",
          "data": {
            "text/plain": [
              "            overall  unixReviewTime\n",
              "count  20000.000000    2.000000e+04\n",
              "mean       3.139900    1.363327e+09\n",
              "std        1.675132    3.579194e+07\n",
              "min        1.000000    1.043885e+09\n",
              "25%        2.000000    1.351469e+09\n",
              "50%        3.000000    1.370909e+09\n",
              "75%        5.000000    1.388880e+09\n",
              "max        5.000000    1.405987e+09"
            ],
            "text/html": [
              "\n",
              "  <div id=\"df-76ebc4ce-eab9-4356-b6b3-03d659013c90\">\n",
              "    <div class=\"colab-df-container\">\n",
              "      <div>\n",
              "<style scoped>\n",
              "    .dataframe tbody tr th:only-of-type {\n",
              "        vertical-align: middle;\n",
              "    }\n",
              "\n",
              "    .dataframe tbody tr th {\n",
              "        vertical-align: top;\n",
              "    }\n",
              "\n",
              "    .dataframe thead th {\n",
              "        text-align: right;\n",
              "    }\n",
              "</style>\n",
              "<table border=\"1\" class=\"dataframe\">\n",
              "  <thead>\n",
              "    <tr style=\"text-align: right;\">\n",
              "      <th></th>\n",
              "      <th>overall</th>\n",
              "      <th>unixReviewTime</th>\n",
              "    </tr>\n",
              "  </thead>\n",
              "  <tbody>\n",
              "    <tr>\n",
              "      <th>count</th>\n",
              "      <td>20000.000000</td>\n",
              "      <td>2.000000e+04</td>\n",
              "    </tr>\n",
              "    <tr>\n",
              "      <th>mean</th>\n",
              "      <td>3.139900</td>\n",
              "      <td>1.363327e+09</td>\n",
              "    </tr>\n",
              "    <tr>\n",
              "      <th>std</th>\n",
              "      <td>1.675132</td>\n",
              "      <td>3.579194e+07</td>\n",
              "    </tr>\n",
              "    <tr>\n",
              "      <th>min</th>\n",
              "      <td>1.000000</td>\n",
              "      <td>1.043885e+09</td>\n",
              "    </tr>\n",
              "    <tr>\n",
              "      <th>25%</th>\n",
              "      <td>2.000000</td>\n",
              "      <td>1.351469e+09</td>\n",
              "    </tr>\n",
              "    <tr>\n",
              "      <th>50%</th>\n",
              "      <td>3.000000</td>\n",
              "      <td>1.370909e+09</td>\n",
              "    </tr>\n",
              "    <tr>\n",
              "      <th>75%</th>\n",
              "      <td>5.000000</td>\n",
              "      <td>1.388880e+09</td>\n",
              "    </tr>\n",
              "    <tr>\n",
              "      <th>max</th>\n",
              "      <td>5.000000</td>\n",
              "      <td>1.405987e+09</td>\n",
              "    </tr>\n",
              "  </tbody>\n",
              "</table>\n",
              "</div>\n",
              "      <button class=\"colab-df-convert\" onclick=\"convertToInteractive('df-76ebc4ce-eab9-4356-b6b3-03d659013c90')\"\n",
              "              title=\"Convert this dataframe to an interactive table.\"\n",
              "              style=\"display:none;\">\n",
              "        \n",
              "  <svg xmlns=\"http://www.w3.org/2000/svg\" height=\"24px\"viewBox=\"0 0 24 24\"\n",
              "       width=\"24px\">\n",
              "    <path d=\"M0 0h24v24H0V0z\" fill=\"none\"/>\n",
              "    <path d=\"M18.56 5.44l.94 2.06.94-2.06 2.06-.94-2.06-.94-.94-2.06-.94 2.06-2.06.94zm-11 1L8.5 8.5l.94-2.06 2.06-.94-2.06-.94L8.5 2.5l-.94 2.06-2.06.94zm10 10l.94 2.06.94-2.06 2.06-.94-2.06-.94-.94-2.06-.94 2.06-2.06.94z\"/><path d=\"M17.41 7.96l-1.37-1.37c-.4-.4-.92-.59-1.43-.59-.52 0-1.04.2-1.43.59L10.3 9.45l-7.72 7.72c-.78.78-.78 2.05 0 2.83L4 21.41c.39.39.9.59 1.41.59.51 0 1.02-.2 1.41-.59l7.78-7.78 2.81-2.81c.8-.78.8-2.07 0-2.86zM5.41 20L4 18.59l7.72-7.72 1.47 1.35L5.41 20z\"/>\n",
              "  </svg>\n",
              "      </button>\n",
              "      \n",
              "  <style>\n",
              "    .colab-df-container {\n",
              "      display:flex;\n",
              "      flex-wrap:wrap;\n",
              "      gap: 12px;\n",
              "    }\n",
              "\n",
              "    .colab-df-convert {\n",
              "      background-color: #E8F0FE;\n",
              "      border: none;\n",
              "      border-radius: 50%;\n",
              "      cursor: pointer;\n",
              "      display: none;\n",
              "      fill: #1967D2;\n",
              "      height: 32px;\n",
              "      padding: 0 0 0 0;\n",
              "      width: 32px;\n",
              "    }\n",
              "\n",
              "    .colab-df-convert:hover {\n",
              "      background-color: #E2EBFA;\n",
              "      box-shadow: 0px 1px 2px rgba(60, 64, 67, 0.3), 0px 1px 3px 1px rgba(60, 64, 67, 0.15);\n",
              "      fill: #174EA6;\n",
              "    }\n",
              "\n",
              "    [theme=dark] .colab-df-convert {\n",
              "      background-color: #3B4455;\n",
              "      fill: #D2E3FC;\n",
              "    }\n",
              "\n",
              "    [theme=dark] .colab-df-convert:hover {\n",
              "      background-color: #434B5C;\n",
              "      box-shadow: 0px 1px 3px 1px rgba(0, 0, 0, 0.15);\n",
              "      filter: drop-shadow(0px 1px 2px rgba(0, 0, 0, 0.3));\n",
              "      fill: #FFFFFF;\n",
              "    }\n",
              "  </style>\n",
              "\n",
              "      <script>\n",
              "        const buttonEl =\n",
              "          document.querySelector('#df-76ebc4ce-eab9-4356-b6b3-03d659013c90 button.colab-df-convert');\n",
              "        buttonEl.style.display =\n",
              "          google.colab.kernel.accessAllowed ? 'block' : 'none';\n",
              "\n",
              "        async function convertToInteractive(key) {\n",
              "          const element = document.querySelector('#df-76ebc4ce-eab9-4356-b6b3-03d659013c90');\n",
              "          const dataTable =\n",
              "            await google.colab.kernel.invokeFunction('convertToInteractive',\n",
              "                                                     [key], {});\n",
              "          if (!dataTable) return;\n",
              "\n",
              "          const docLinkHtml = 'Like what you see? Visit the ' +\n",
              "            '<a target=\"_blank\" href=https://colab.research.google.com/notebooks/data_table.ipynb>data table notebook</a>'\n",
              "            + ' to learn more about interactive tables.';\n",
              "          element.innerHTML = '';\n",
              "          dataTable['output_type'] = 'display_data';\n",
              "          await google.colab.output.renderOutput(dataTable, element);\n",
              "          const docLink = document.createElement('div');\n",
              "          docLink.innerHTML = docLinkHtml;\n",
              "          element.appendChild(docLink);\n",
              "        }\n",
              "      </script>\n",
              "    </div>\n",
              "  </div>\n",
              "  "
            ]
          },
          "metadata": {},
          "execution_count": 10
        }
      ],
      "source": [
        "sports_outdoors.describe()\n",
        "#df_data.describe()"
      ]
    },
    {
      "cell_type": "code",
      "execution_count": null,
      "metadata": {
        "colab": {
          "base_uri": "https://localhost:8080/",
          "height": 344
        },
        "id": "Wo8SlpO7AQaQ",
        "outputId": "f41c57e9-59ed-426c-84e8-dd61acc7c2fa"
      },
      "outputs": [
        {
          "data": {
            "text/html": [
              "<div>\n",
              "<style scoped>\n",
              "    .dataframe tbody tr th:only-of-type {\n",
              "        vertical-align: middle;\n",
              "    }\n",
              "\n",
              "    .dataframe tbody tr th {\n",
              "        vertical-align: top;\n",
              "    }\n",
              "\n",
              "    .dataframe thead th {\n",
              "        text-align: right;\n",
              "    }\n",
              "</style>\n",
              "<table border=\"1\" class=\"dataframe\">\n",
              "  <thead>\n",
              "    <tr style=\"text-align: right;\">\n",
              "      <th></th>\n",
              "      <th>reviewerID</th>\n",
              "      <th>asin</th>\n",
              "      <th>reviewerName</th>\n",
              "      <th>helpful</th>\n",
              "      <th>reviewText</th>\n",
              "      <th>overall</th>\n",
              "      <th>summary</th>\n",
              "      <th>unixReviewTime</th>\n",
              "      <th>reviewTime</th>\n",
              "    </tr>\n",
              "  </thead>\n",
              "  <tbody>\n",
              "    <tr>\n",
              "      <th>16962</th>\n",
              "      <td>A1VGWWV36PBC3W</td>\n",
              "      <td>B0007UNUN2</td>\n",
              "      <td>Cassandra Dunn</td>\n",
              "      <td>[0, 0]</td>\n",
              "      <td>Annoying rope. Didn't do a great trick, I was ...</td>\n",
              "      <td>1.0</td>\n",
              "      <td>Couldn't get it to work</td>\n",
              "      <td>1396828800</td>\n",
              "      <td>04 7, 2014</td>\n",
              "    </tr>\n",
              "    <tr>\n",
              "      <th>140258</th>\n",
              "      <td>A29ZEV20RCXV1D</td>\n",
              "      <td>B001T9QYR4</td>\n",
              "      <td>Anthony J. Lomenzo \"Doc Tony\"</td>\n",
              "      <td>[4, 5]</td>\n",
              "      <td>I think one of the areas where it gets 'very' ...</td>\n",
              "      <td>2.0</td>\n",
              "      <td>The spring tension mount has issues!</td>\n",
              "      <td>1307232000</td>\n",
              "      <td>06 5, 2011</td>\n",
              "    </tr>\n",
              "    <tr>\n",
              "      <th>277898</th>\n",
              "      <td>A3CEJR8FKMMOTU</td>\n",
              "      <td>B009XN20G2</td>\n",
              "      <td>noah cater</td>\n",
              "      <td>[3, 13]</td>\n",
              "      <td>Don't buy I know a while back I said it was be...</td>\n",
              "      <td>1.0</td>\n",
              "      <td>ok i take every thing back that i said</td>\n",
              "      <td>1333065600</td>\n",
              "      <td>03 30, 2012</td>\n",
              "    </tr>\n",
              "  </tbody>\n",
              "</table>\n",
              "</div>"
            ],
            "text/plain": [
              "            reviewerID        asin                   reviewerName  helpful  \\\n",
              "16962   A1VGWWV36PBC3W  B0007UNUN2                 Cassandra Dunn   [0, 0]   \n",
              "140258  A29ZEV20RCXV1D  B001T9QYR4  Anthony J. Lomenzo \"Doc Tony\"   [4, 5]   \n",
              "277898  A3CEJR8FKMMOTU  B009XN20G2                     noah cater  [3, 13]   \n",
              "\n",
              "                                               reviewText  overall  \\\n",
              "16962   Annoying rope. Didn't do a great trick, I was ...      1.0   \n",
              "140258  I think one of the areas where it gets 'very' ...      2.0   \n",
              "277898  Don't buy I know a while back I said it was be...      1.0   \n",
              "\n",
              "                                       summary  unixReviewTime   reviewTime  \n",
              "16962                  Couldn't get it to work      1396828800   04 7, 2014  \n",
              "140258    The spring tension mount has issues!      1307232000   06 5, 2011  \n",
              "277898  ok i take every thing back that i said      1333065600  03 30, 2012  "
            ]
          },
          "execution_count": 12,
          "metadata": {},
          "output_type": "execute_result"
        }
      ],
      "source": [
        "#sports_outdoors[:3]"
      ]
    },
    {
      "cell_type": "code",
      "execution_count": 9,
      "metadata": {
        "id": "BWx29ZAhBgHa"
      },
      "outputs": [],
      "source": [
        "sports_outdoors[\"reviewTime\"] = pd.to_datetime(sports_outdoors[\"reviewTime\"])\n",
        "sports_outdoors = sports_outdoors[['asin', 'summary', 'reviewText', 'overall', 'reviewTime']]"
      ]
    },
    {
      "cell_type": "code",
      "source": [
        "#kindle_store[\"reviewTime\"] = pd.to_datetime(kindle_store[\"reviewTime\"])\n",
        "#kindle_store = kindle_store[['asin', 'summary', 'reviewText', 'overall', 'reviewTime']]"
      ],
      "metadata": {
        "id": "gXVeJ99HgcaT"
      },
      "execution_count": 14,
      "outputs": []
    },
    {
      "cell_type": "code",
      "execution_count": 113,
      "metadata": {
        "id": "Iomq111BgrBy"
      },
      "outputs": [],
      "source": [
        "electronics[\"reviewTime\"] = pd.to_datetime(electronics[\"reviewTime\"])\n",
        "electronics = electronics[['asin', 'summary', 'reviewText', 'overall', 'reviewTime']]"
      ]
    },
    {
      "cell_type": "code",
      "source": [
        "video_games[\"reviewTime\"] = pd.to_datetime(video_games[\"reviewTime\"])\n",
        "video_games = video_games[['asin', 'summary', 'reviewText', 'overall', 'reviewTime']]"
      ],
      "metadata": {
        "id": "dv83xWDHy66t"
      },
      "execution_count": 66,
      "outputs": []
    },
    {
      "cell_type": "code",
      "source": [
        "health[\"reviewTime\"] = pd.to_datetime(health[\"reviewTime\"])\n",
        "health = health[['asin', 'summary', 'reviewText', 'overall', 'reviewTime']]"
      ],
      "metadata": {
        "id": "dntDEoYK5wqa"
      },
      "execution_count": 10,
      "outputs": []
    },
    {
      "cell_type": "code",
      "source": [
        "df_data[\"reviewTime\"] = pd.to_datetime(df_data[\"reviewTime\"])\n"
      ],
      "metadata": {
        "id": "f9QLxdmsoM4m"
      },
      "execution_count": null,
      "outputs": []
    },
    {
      "cell_type": "code",
      "execution_count": null,
      "metadata": {
        "id": "dvaTzp2XojsI"
      },
      "outputs": [],
      "source": [
        "df_data = df_data[['asin', 'summary', 'reviewText', 'overall', 'reviewTime']]"
      ]
    },
    {
      "cell_type": "code",
      "source": [
        "health.shape"
      ],
      "metadata": {
        "colab": {
          "base_uri": "https://localhost:8080/"
        },
        "id": "KscCwduTui9A",
        "outputId": "08536684-b986-4aa7-8ee9-49ae2cfe0eae"
      },
      "execution_count": 16,
      "outputs": [
        {
          "output_type": "execute_result",
          "data": {
            "text/plain": [
              "(20000, 5)"
            ]
          },
          "metadata": {},
          "execution_count": 16
        }
      ]
    },
    {
      "cell_type": "markdown",
      "metadata": {
        "id": "lgJA09rTDbzB"
      },
      "source": [
        "Saving as a csv file"
      ]
    },
    {
      "cell_type": "code",
      "execution_count": 67,
      "metadata": {
        "id": "qLxXC11AAT02"
      },
      "outputs": [],
      "source": [
        "df_video_games = pd.DataFrame(video_games)\n",
        "df_video_games.to_csv('video_games.csv')\n",
        "#df = pd.DataFrame(df_data)\n",
        "#df.to_csv('Amazon_multi_domain.csv')\n",
        "#df = pd.read_csv('Amazon_multi_domain.csv')\n",
        "#df_sports_outdoors=pd.read_csv('sports_outdoors.csv')"
      ]
    },
    {
      "cell_type": "code",
      "source": [
        "df_kindle_store = pd.DataFrame(kindle_store)\n",
        "df_kindle_store.to_csv('kindle_store.csv')"
      ],
      "metadata": {
        "id": "hVnH7dCqg95X"
      },
      "execution_count": 64,
      "outputs": []
    },
    {
      "cell_type": "code",
      "source": [
        "df_health = pd.DataFrame(health)\n",
        "df_health.to_csv('health.csv')"
      ],
      "metadata": {
        "id": "5d3HO2YgTeWE"
      },
      "execution_count": 11,
      "outputs": []
    },
    {
      "cell_type": "code",
      "execution_count": 12,
      "metadata": {
        "id": "DwBWhfA7AnjS",
        "colab": {
          "base_uri": "https://localhost:8080/",
          "height": 17
        },
        "outputId": "d06d2dec-df0d-456e-d9c8-cd8cba36c8d4"
      },
      "outputs": [
        {
          "output_type": "display_data",
          "data": {
            "text/plain": [
              "<IPython.core.display.Javascript object>"
            ],
            "application/javascript": [
              "\n",
              "    async function download(id, filename, size) {\n",
              "      if (!google.colab.kernel.accessAllowed) {\n",
              "        return;\n",
              "      }\n",
              "      const div = document.createElement('div');\n",
              "      const label = document.createElement('label');\n",
              "      label.textContent = `Downloading \"${filename}\": `;\n",
              "      div.appendChild(label);\n",
              "      const progress = document.createElement('progress');\n",
              "      progress.max = size;\n",
              "      div.appendChild(progress);\n",
              "      document.body.appendChild(div);\n",
              "\n",
              "      const buffers = [];\n",
              "      let downloaded = 0;\n",
              "\n",
              "      const channel = await google.colab.kernel.comms.open(id);\n",
              "      // Send a message to notify the kernel that we're ready.\n",
              "      channel.send({})\n",
              "\n",
              "      for await (const message of channel.messages) {\n",
              "        // Send a message to notify the kernel that we're ready.\n",
              "        channel.send({})\n",
              "        if (message.buffers) {\n",
              "          for (const buffer of message.buffers) {\n",
              "            buffers.push(buffer);\n",
              "            downloaded += buffer.byteLength;\n",
              "            progress.value = downloaded;\n",
              "          }\n",
              "        }\n",
              "      }\n",
              "      const blob = new Blob(buffers, {type: 'application/binary'});\n",
              "      const a = document.createElement('a');\n",
              "      a.href = window.URL.createObjectURL(blob);\n",
              "      a.download = filename;\n",
              "      div.appendChild(a);\n",
              "      a.click();\n",
              "      div.remove();\n",
              "    }\n",
              "  "
            ]
          },
          "metadata": {}
        },
        {
          "output_type": "display_data",
          "data": {
            "text/plain": [
              "<IPython.core.display.Javascript object>"
            ],
            "application/javascript": [
              "download(\"download_fa76bb44-1f23-4164-a2e2-ac9ebabae9eb\", \"health.csv\", 11886772)"
            ]
          },
          "metadata": {}
        }
      ],
      "source": [
        "from google.colab import files\n",
        "#files.download('sports_outdoors.csv')\n",
        "#files.download('Amazon_multi_domain.csv')\n",
        "files.download('health.csv')"
      ]
    },
    {
      "cell_type": "markdown",
      "metadata": {
        "id": "E0ik6gmPDn2K"
      },
      "source": [
        "###Shuffling the entire dataset"
      ]
    },
    {
      "cell_type": "code",
      "execution_count": 8,
      "metadata": {
        "id": "SEYijGVJDsRd"
      },
      "outputs": [],
      "source": [
        "#df = df_sports_outdoors.sample(frac = 1)\n",
        "#df = df_video_games.sample(frac = 1)\n",
        "df = df.sample(frac = 1)"
      ]
    },
    {
      "cell_type": "code",
      "execution_count": 12,
      "metadata": {
        "colab": {
          "base_uri": "https://localhost:8080/",
          "height": 337
        },
        "id": "LKUmXyQaIiqA",
        "outputId": "b81b95e2-eea0-44d2-e40f-5e5261fc8b35"
      },
      "outputs": [
        {
          "output_type": "execute_result",
          "data": {
            "text/plain": [
              "       Unnamed: 0        asin  \\\n",
              "15015       51793  B000EGDNCW   \n",
              "5586       236045  B004RQWYDO   \n",
              "19707       15234  B000002KH3   \n",
              "7017       310959  B00BHVZKOW   \n",
              "16434       42238  B00009LI14   \n",
              "\n",
              "                                               summary  \\\n",
              "15015                    Compression at absurd levels.   \n",
              "5586                                 What you pay for.   \n",
              "19707  Anything less than 5 stars should be actionable   \n",
              "7017                       Why is this called compact?   \n",
              "16434            Get a shredder for this \"hotel paper\"   \n",
              "\n",
              "                                              reviewText  overall  reviewTime  \n",
              "15015  It really isn't about the music. The review is...      2.0  2013-03-16  \n",
              "5586   I purchased this monitor in hopes of better im...      2.0  2013-09-10  \n",
              "19707  YOU should be tossed in jail if you give this ...      5.0  2006-05-06  \n",
              "7017   The measurements are not listed here at the ti...      2.0  2013-11-05  \n",
              "16434  What happened to Michelle Branch? Her debut TH...      1.0  2003-07-07  "
            ],
            "text/html": [
              "\n",
              "  <div id=\"df-160ebf1e-d1c9-498f-83e2-f6303249ab31\">\n",
              "    <div class=\"colab-df-container\">\n",
              "      <div>\n",
              "<style scoped>\n",
              "    .dataframe tbody tr th:only-of-type {\n",
              "        vertical-align: middle;\n",
              "    }\n",
              "\n",
              "    .dataframe tbody tr th {\n",
              "        vertical-align: top;\n",
              "    }\n",
              "\n",
              "    .dataframe thead th {\n",
              "        text-align: right;\n",
              "    }\n",
              "</style>\n",
              "<table border=\"1\" class=\"dataframe\">\n",
              "  <thead>\n",
              "    <tr style=\"text-align: right;\">\n",
              "      <th></th>\n",
              "      <th>Unnamed: 0</th>\n",
              "      <th>asin</th>\n",
              "      <th>summary</th>\n",
              "      <th>reviewText</th>\n",
              "      <th>overall</th>\n",
              "      <th>reviewTime</th>\n",
              "    </tr>\n",
              "  </thead>\n",
              "  <tbody>\n",
              "    <tr>\n",
              "      <th>15015</th>\n",
              "      <td>51793</td>\n",
              "      <td>B000EGDNCW</td>\n",
              "      <td>Compression at absurd levels.</td>\n",
              "      <td>It really isn't about the music. The review is...</td>\n",
              "      <td>2.0</td>\n",
              "      <td>2013-03-16</td>\n",
              "    </tr>\n",
              "    <tr>\n",
              "      <th>5586</th>\n",
              "      <td>236045</td>\n",
              "      <td>B004RQWYDO</td>\n",
              "      <td>What you pay for.</td>\n",
              "      <td>I purchased this monitor in hopes of better im...</td>\n",
              "      <td>2.0</td>\n",
              "      <td>2013-09-10</td>\n",
              "    </tr>\n",
              "    <tr>\n",
              "      <th>19707</th>\n",
              "      <td>15234</td>\n",
              "      <td>B000002KH3</td>\n",
              "      <td>Anything less than 5 stars should be actionable</td>\n",
              "      <td>YOU should be tossed in jail if you give this ...</td>\n",
              "      <td>5.0</td>\n",
              "      <td>2006-05-06</td>\n",
              "    </tr>\n",
              "    <tr>\n",
              "      <th>7017</th>\n",
              "      <td>310959</td>\n",
              "      <td>B00BHVZKOW</td>\n",
              "      <td>Why is this called compact?</td>\n",
              "      <td>The measurements are not listed here at the ti...</td>\n",
              "      <td>2.0</td>\n",
              "      <td>2013-11-05</td>\n",
              "    </tr>\n",
              "    <tr>\n",
              "      <th>16434</th>\n",
              "      <td>42238</td>\n",
              "      <td>B00009LI14</td>\n",
              "      <td>Get a shredder for this \"hotel paper\"</td>\n",
              "      <td>What happened to Michelle Branch? Her debut TH...</td>\n",
              "      <td>1.0</td>\n",
              "      <td>2003-07-07</td>\n",
              "    </tr>\n",
              "  </tbody>\n",
              "</table>\n",
              "</div>\n",
              "      <button class=\"colab-df-convert\" onclick=\"convertToInteractive('df-160ebf1e-d1c9-498f-83e2-f6303249ab31')\"\n",
              "              title=\"Convert this dataframe to an interactive table.\"\n",
              "              style=\"display:none;\">\n",
              "        \n",
              "  <svg xmlns=\"http://www.w3.org/2000/svg\" height=\"24px\"viewBox=\"0 0 24 24\"\n",
              "       width=\"24px\">\n",
              "    <path d=\"M0 0h24v24H0V0z\" fill=\"none\"/>\n",
              "    <path d=\"M18.56 5.44l.94 2.06.94-2.06 2.06-.94-2.06-.94-.94-2.06-.94 2.06-2.06.94zm-11 1L8.5 8.5l.94-2.06 2.06-.94-2.06-.94L8.5 2.5l-.94 2.06-2.06.94zm10 10l.94 2.06.94-2.06 2.06-.94-2.06-.94-.94-2.06-.94 2.06-2.06.94z\"/><path d=\"M17.41 7.96l-1.37-1.37c-.4-.4-.92-.59-1.43-.59-.52 0-1.04.2-1.43.59L10.3 9.45l-7.72 7.72c-.78.78-.78 2.05 0 2.83L4 21.41c.39.39.9.59 1.41.59.51 0 1.02-.2 1.41-.59l7.78-7.78 2.81-2.81c.8-.78.8-2.07 0-2.86zM5.41 20L4 18.59l7.72-7.72 1.47 1.35L5.41 20z\"/>\n",
              "  </svg>\n",
              "      </button>\n",
              "      \n",
              "  <style>\n",
              "    .colab-df-container {\n",
              "      display:flex;\n",
              "      flex-wrap:wrap;\n",
              "      gap: 12px;\n",
              "    }\n",
              "\n",
              "    .colab-df-convert {\n",
              "      background-color: #E8F0FE;\n",
              "      border: none;\n",
              "      border-radius: 50%;\n",
              "      cursor: pointer;\n",
              "      display: none;\n",
              "      fill: #1967D2;\n",
              "      height: 32px;\n",
              "      padding: 0 0 0 0;\n",
              "      width: 32px;\n",
              "    }\n",
              "\n",
              "    .colab-df-convert:hover {\n",
              "      background-color: #E2EBFA;\n",
              "      box-shadow: 0px 1px 2px rgba(60, 64, 67, 0.3), 0px 1px 3px 1px rgba(60, 64, 67, 0.15);\n",
              "      fill: #174EA6;\n",
              "    }\n",
              "\n",
              "    [theme=dark] .colab-df-convert {\n",
              "      background-color: #3B4455;\n",
              "      fill: #D2E3FC;\n",
              "    }\n",
              "\n",
              "    [theme=dark] .colab-df-convert:hover {\n",
              "      background-color: #434B5C;\n",
              "      box-shadow: 0px 1px 3px 1px rgba(0, 0, 0, 0.15);\n",
              "      filter: drop-shadow(0px 1px 2px rgba(0, 0, 0, 0.3));\n",
              "      fill: #FFFFFF;\n",
              "    }\n",
              "  </style>\n",
              "\n",
              "      <script>\n",
              "        const buttonEl =\n",
              "          document.querySelector('#df-160ebf1e-d1c9-498f-83e2-f6303249ab31 button.colab-df-convert');\n",
              "        buttonEl.style.display =\n",
              "          google.colab.kernel.accessAllowed ? 'block' : 'none';\n",
              "\n",
              "        async function convertToInteractive(key) {\n",
              "          const element = document.querySelector('#df-160ebf1e-d1c9-498f-83e2-f6303249ab31');\n",
              "          const dataTable =\n",
              "            await google.colab.kernel.invokeFunction('convertToInteractive',\n",
              "                                                     [key], {});\n",
              "          if (!dataTable) return;\n",
              "\n",
              "          const docLinkHtml = 'Like what you see? Visit the ' +\n",
              "            '<a target=\"_blank\" href=https://colab.research.google.com/notebooks/data_table.ipynb>data table notebook</a>'\n",
              "            + ' to learn more about interactive tables.';\n",
              "          element.innerHTML = '';\n",
              "          dataTable['output_type'] = 'display_data';\n",
              "          await google.colab.output.renderOutput(dataTable, element);\n",
              "          const docLink = document.createElement('div');\n",
              "          docLink.innerHTML = docLinkHtml;\n",
              "          element.appendChild(docLink);\n",
              "        }\n",
              "      </script>\n",
              "    </div>\n",
              "  </div>\n",
              "  "
            ]
          },
          "metadata": {},
          "execution_count": 12
        }
      ],
      "source": [
        "# visualising the dataset after shuffling\n",
        "df.head()"
      ]
    },
    {
      "cell_type": "markdown",
      "metadata": {
        "id": "cGSDGvRQJC7O"
      },
      "source": [
        "###Statistical analysis"
      ]
    },
    {
      "cell_type": "code",
      "execution_count": 11,
      "metadata": {
        "colab": {
          "base_uri": "https://localhost:8080/",
          "height": 300
        },
        "id": "2GqgvzGGJCba",
        "outputId": "7c974600-499f-48d6-fa88-6c1f3c1a4876"
      },
      "outputs": [
        {
          "output_type": "execute_result",
          "data": {
            "text/plain": [
              "          Unnamed: 0       overall\n",
              "count   20000.000000  20000.000000\n",
              "mean   202483.982250      3.127100\n",
              "std    219580.098119      1.668618\n",
              "min        25.000000      1.000000\n",
              "25%     45264.250000      2.000000\n",
              "50%    132873.000000      3.000000\n",
              "75%    267561.000000      5.000000\n",
              "max    982410.000000      5.000000"
            ],
            "text/html": [
              "\n",
              "  <div id=\"df-55ebb5c9-2361-440e-8dc5-1212bfc2e8a1\">\n",
              "    <div class=\"colab-df-container\">\n",
              "      <div>\n",
              "<style scoped>\n",
              "    .dataframe tbody tr th:only-of-type {\n",
              "        vertical-align: middle;\n",
              "    }\n",
              "\n",
              "    .dataframe tbody tr th {\n",
              "        vertical-align: top;\n",
              "    }\n",
              "\n",
              "    .dataframe thead th {\n",
              "        text-align: right;\n",
              "    }\n",
              "</style>\n",
              "<table border=\"1\" class=\"dataframe\">\n",
              "  <thead>\n",
              "    <tr style=\"text-align: right;\">\n",
              "      <th></th>\n",
              "      <th>Unnamed: 0</th>\n",
              "      <th>overall</th>\n",
              "    </tr>\n",
              "  </thead>\n",
              "  <tbody>\n",
              "    <tr>\n",
              "      <th>count</th>\n",
              "      <td>20000.000000</td>\n",
              "      <td>20000.000000</td>\n",
              "    </tr>\n",
              "    <tr>\n",
              "      <th>mean</th>\n",
              "      <td>202483.982250</td>\n",
              "      <td>3.127100</td>\n",
              "    </tr>\n",
              "    <tr>\n",
              "      <th>std</th>\n",
              "      <td>219580.098119</td>\n",
              "      <td>1.668618</td>\n",
              "    </tr>\n",
              "    <tr>\n",
              "      <th>min</th>\n",
              "      <td>25.000000</td>\n",
              "      <td>1.000000</td>\n",
              "    </tr>\n",
              "    <tr>\n",
              "      <th>25%</th>\n",
              "      <td>45264.250000</td>\n",
              "      <td>2.000000</td>\n",
              "    </tr>\n",
              "    <tr>\n",
              "      <th>50%</th>\n",
              "      <td>132873.000000</td>\n",
              "      <td>3.000000</td>\n",
              "    </tr>\n",
              "    <tr>\n",
              "      <th>75%</th>\n",
              "      <td>267561.000000</td>\n",
              "      <td>5.000000</td>\n",
              "    </tr>\n",
              "    <tr>\n",
              "      <th>max</th>\n",
              "      <td>982410.000000</td>\n",
              "      <td>5.000000</td>\n",
              "    </tr>\n",
              "  </tbody>\n",
              "</table>\n",
              "</div>\n",
              "      <button class=\"colab-df-convert\" onclick=\"convertToInteractive('df-55ebb5c9-2361-440e-8dc5-1212bfc2e8a1')\"\n",
              "              title=\"Convert this dataframe to an interactive table.\"\n",
              "              style=\"display:none;\">\n",
              "        \n",
              "  <svg xmlns=\"http://www.w3.org/2000/svg\" height=\"24px\"viewBox=\"0 0 24 24\"\n",
              "       width=\"24px\">\n",
              "    <path d=\"M0 0h24v24H0V0z\" fill=\"none\"/>\n",
              "    <path d=\"M18.56 5.44l.94 2.06.94-2.06 2.06-.94-2.06-.94-.94-2.06-.94 2.06-2.06.94zm-11 1L8.5 8.5l.94-2.06 2.06-.94-2.06-.94L8.5 2.5l-.94 2.06-2.06.94zm10 10l.94 2.06.94-2.06 2.06-.94-2.06-.94-.94-2.06-.94 2.06-2.06.94z\"/><path d=\"M17.41 7.96l-1.37-1.37c-.4-.4-.92-.59-1.43-.59-.52 0-1.04.2-1.43.59L10.3 9.45l-7.72 7.72c-.78.78-.78 2.05 0 2.83L4 21.41c.39.39.9.59 1.41.59.51 0 1.02-.2 1.41-.59l7.78-7.78 2.81-2.81c.8-.78.8-2.07 0-2.86zM5.41 20L4 18.59l7.72-7.72 1.47 1.35L5.41 20z\"/>\n",
              "  </svg>\n",
              "      </button>\n",
              "      \n",
              "  <style>\n",
              "    .colab-df-container {\n",
              "      display:flex;\n",
              "      flex-wrap:wrap;\n",
              "      gap: 12px;\n",
              "    }\n",
              "\n",
              "    .colab-df-convert {\n",
              "      background-color: #E8F0FE;\n",
              "      border: none;\n",
              "      border-radius: 50%;\n",
              "      cursor: pointer;\n",
              "      display: none;\n",
              "      fill: #1967D2;\n",
              "      height: 32px;\n",
              "      padding: 0 0 0 0;\n",
              "      width: 32px;\n",
              "    }\n",
              "\n",
              "    .colab-df-convert:hover {\n",
              "      background-color: #E2EBFA;\n",
              "      box-shadow: 0px 1px 2px rgba(60, 64, 67, 0.3), 0px 1px 3px 1px rgba(60, 64, 67, 0.15);\n",
              "      fill: #174EA6;\n",
              "    }\n",
              "\n",
              "    [theme=dark] .colab-df-convert {\n",
              "      background-color: #3B4455;\n",
              "      fill: #D2E3FC;\n",
              "    }\n",
              "\n",
              "    [theme=dark] .colab-df-convert:hover {\n",
              "      background-color: #434B5C;\n",
              "      box-shadow: 0px 1px 3px 1px rgba(0, 0, 0, 0.15);\n",
              "      filter: drop-shadow(0px 1px 2px rgba(0, 0, 0, 0.3));\n",
              "      fill: #FFFFFF;\n",
              "    }\n",
              "  </style>\n",
              "\n",
              "      <script>\n",
              "        const buttonEl =\n",
              "          document.querySelector('#df-55ebb5c9-2361-440e-8dc5-1212bfc2e8a1 button.colab-df-convert');\n",
              "        buttonEl.style.display =\n",
              "          google.colab.kernel.accessAllowed ? 'block' : 'none';\n",
              "\n",
              "        async function convertToInteractive(key) {\n",
              "          const element = document.querySelector('#df-55ebb5c9-2361-440e-8dc5-1212bfc2e8a1');\n",
              "          const dataTable =\n",
              "            await google.colab.kernel.invokeFunction('convertToInteractive',\n",
              "                                                     [key], {});\n",
              "          if (!dataTable) return;\n",
              "\n",
              "          const docLinkHtml = 'Like what you see? Visit the ' +\n",
              "            '<a target=\"_blank\" href=https://colab.research.google.com/notebooks/data_table.ipynb>data table notebook</a>'\n",
              "            + ' to learn more about interactive tables.';\n",
              "          element.innerHTML = '';\n",
              "          dataTable['output_type'] = 'display_data';\n",
              "          await google.colab.output.renderOutput(dataTable, element);\n",
              "          const docLink = document.createElement('div');\n",
              "          docLink.innerHTML = docLinkHtml;\n",
              "          element.appendChild(docLink);\n",
              "        }\n",
              "      </script>\n",
              "    </div>\n",
              "  </div>\n",
              "  "
            ]
          },
          "metadata": {},
          "execution_count": 11
        }
      ],
      "source": [
        "df.describe()"
      ]
    },
    {
      "cell_type": "code",
      "execution_count": 73,
      "metadata": {
        "colab": {
          "base_uri": "https://localhost:8080/"
        },
        "id": "SuA3y7kjbNDp",
        "outputId": "966ae50b-c59b-4b88-b258-f1534fbad7db"
      },
      "outputs": [
        {
          "output_type": "stream",
          "name": "stdout",
          "text": [
            "<class 'pandas.core.frame.DataFrame'>\n",
            "Int64Index: 20000 entries, 184281 to 184741\n",
            "Data columns (total 5 columns):\n",
            " #   Column      Non-Null Count  Dtype         \n",
            "---  ------      --------------  -----         \n",
            " 0   asin        20000 non-null  object        \n",
            " 1   summary     20000 non-null  object        \n",
            " 2   reviewText  20000 non-null  object        \n",
            " 3   overall     20000 non-null  float64       \n",
            " 4   reviewTime  20000 non-null  datetime64[ns]\n",
            "dtypes: datetime64[ns](1), float64(1), object(3)\n",
            "memory usage: 937.5+ KB\n"
          ]
        }
      ],
      "source": [
        "# check no missing values\n",
        "df.info()"
      ]
    },
    {
      "cell_type": "code",
      "execution_count": 14,
      "metadata": {
        "colab": {
          "base_uri": "https://localhost:8080/"
        },
        "id": "G36slNwNdXG4",
        "outputId": "de0a9f5f-5afc-4dc7-e0bc-1c40e1300824"
      },
      "outputs": [
        {
          "output_type": "execute_result",
          "data": {
            "text/plain": [
              "(20000, 6)"
            ]
          },
          "metadata": {},
          "execution_count": 14
        }
      ],
      "source": [
        "df.shape"
      ]
    },
    {
      "cell_type": "code",
      "execution_count": 75,
      "metadata": {
        "colab": {
          "base_uri": "https://localhost:8080/"
        },
        "id": "rAPc0ZCbVi3S",
        "outputId": "e3da3e9a-185d-4783-d32b-e6bf58db4489"
      },
      "outputs": [
        {
          "output_type": "execute_result",
          "data": {
            "text/plain": [
              "5.0    6870\n",
              "1.0    5282\n",
              "2.0    4718\n",
              "4.0    3130\n",
              "Name: overall, dtype: int64"
            ]
          },
          "metadata": {},
          "execution_count": 75
        }
      ],
      "source": [
        "# Total number of instances having positive review and negative review\n",
        "df['overall'].value_counts()"
      ]
    },
    {
      "cell_type": "markdown",
      "metadata": {
        "id": "GJmuIb6PW1BT"
      },
      "source": [
        "# Data pre-processing"
      ]
    },
    {
      "cell_type": "code",
      "execution_count": 15,
      "metadata": {
        "id": "NgFsBEThYRNI"
      },
      "outputs": [],
      "source": [
        "df['overall'] = np.where((df['overall']<3), 0, df.overall)  # change rating < 3 to value 0 (negative)\n",
        "df['overall'] = np.where((df['overall']>3), 1, df.overall)  # change rating > 3 to value 1 (positive)"
      ]
    },
    {
      "cell_type": "code",
      "execution_count": 17,
      "metadata": {
        "colab": {
          "base_uri": "https://localhost:8080/",
          "height": 337
        },
        "id": "GHuyP0hPccTC",
        "outputId": "3d55f73e-452a-4be0-b62b-df36f2f7d871"
      },
      "outputs": [
        {
          "output_type": "execute_result",
          "data": {
            "text/plain": [
              "       Unnamed: 0        asin  \\\n",
              "15015       51793  B000EGDNCW   \n",
              "5586       236045  B004RQWYDO   \n",
              "19707       15234  B000002KH3   \n",
              "7017       310959  B00BHVZKOW   \n",
              "16434       42238  B00009LI14   \n",
              "\n",
              "                                               summary  \\\n",
              "15015                    Compression at absurd levels.   \n",
              "5586                                 What you pay for.   \n",
              "19707  Anything less than 5 stars should be actionable   \n",
              "7017                       Why is this called compact?   \n",
              "16434            Get a shredder for this \"hotel paper\"   \n",
              "\n",
              "                                              reviewText  overall  reviewTime  \n",
              "15015  It really isn't about the music. The review is...      0.0  2013-03-16  \n",
              "5586   I purchased this monitor in hopes of better im...      0.0  2013-09-10  \n",
              "19707  YOU should be tossed in jail if you give this ...      1.0  2006-05-06  \n",
              "7017   The measurements are not listed here at the ti...      0.0  2013-11-05  \n",
              "16434  What happened to Michelle Branch? Her debut TH...      0.0  2003-07-07  "
            ],
            "text/html": [
              "\n",
              "  <div id=\"df-d0b34e73-f6f4-4190-950e-b5ad01c2856f\">\n",
              "    <div class=\"colab-df-container\">\n",
              "      <div>\n",
              "<style scoped>\n",
              "    .dataframe tbody tr th:only-of-type {\n",
              "        vertical-align: middle;\n",
              "    }\n",
              "\n",
              "    .dataframe tbody tr th {\n",
              "        vertical-align: top;\n",
              "    }\n",
              "\n",
              "    .dataframe thead th {\n",
              "        text-align: right;\n",
              "    }\n",
              "</style>\n",
              "<table border=\"1\" class=\"dataframe\">\n",
              "  <thead>\n",
              "    <tr style=\"text-align: right;\">\n",
              "      <th></th>\n",
              "      <th>Unnamed: 0</th>\n",
              "      <th>asin</th>\n",
              "      <th>summary</th>\n",
              "      <th>reviewText</th>\n",
              "      <th>overall</th>\n",
              "      <th>reviewTime</th>\n",
              "    </tr>\n",
              "  </thead>\n",
              "  <tbody>\n",
              "    <tr>\n",
              "      <th>15015</th>\n",
              "      <td>51793</td>\n",
              "      <td>B000EGDNCW</td>\n",
              "      <td>Compression at absurd levels.</td>\n",
              "      <td>It really isn't about the music. The review is...</td>\n",
              "      <td>0.0</td>\n",
              "      <td>2013-03-16</td>\n",
              "    </tr>\n",
              "    <tr>\n",
              "      <th>5586</th>\n",
              "      <td>236045</td>\n",
              "      <td>B004RQWYDO</td>\n",
              "      <td>What you pay for.</td>\n",
              "      <td>I purchased this monitor in hopes of better im...</td>\n",
              "      <td>0.0</td>\n",
              "      <td>2013-09-10</td>\n",
              "    </tr>\n",
              "    <tr>\n",
              "      <th>19707</th>\n",
              "      <td>15234</td>\n",
              "      <td>B000002KH3</td>\n",
              "      <td>Anything less than 5 stars should be actionable</td>\n",
              "      <td>YOU should be tossed in jail if you give this ...</td>\n",
              "      <td>1.0</td>\n",
              "      <td>2006-05-06</td>\n",
              "    </tr>\n",
              "    <tr>\n",
              "      <th>7017</th>\n",
              "      <td>310959</td>\n",
              "      <td>B00BHVZKOW</td>\n",
              "      <td>Why is this called compact?</td>\n",
              "      <td>The measurements are not listed here at the ti...</td>\n",
              "      <td>0.0</td>\n",
              "      <td>2013-11-05</td>\n",
              "    </tr>\n",
              "    <tr>\n",
              "      <th>16434</th>\n",
              "      <td>42238</td>\n",
              "      <td>B00009LI14</td>\n",
              "      <td>Get a shredder for this \"hotel paper\"</td>\n",
              "      <td>What happened to Michelle Branch? Her debut TH...</td>\n",
              "      <td>0.0</td>\n",
              "      <td>2003-07-07</td>\n",
              "    </tr>\n",
              "  </tbody>\n",
              "</table>\n",
              "</div>\n",
              "      <button class=\"colab-df-convert\" onclick=\"convertToInteractive('df-d0b34e73-f6f4-4190-950e-b5ad01c2856f')\"\n",
              "              title=\"Convert this dataframe to an interactive table.\"\n",
              "              style=\"display:none;\">\n",
              "        \n",
              "  <svg xmlns=\"http://www.w3.org/2000/svg\" height=\"24px\"viewBox=\"0 0 24 24\"\n",
              "       width=\"24px\">\n",
              "    <path d=\"M0 0h24v24H0V0z\" fill=\"none\"/>\n",
              "    <path d=\"M18.56 5.44l.94 2.06.94-2.06 2.06-.94-2.06-.94-.94-2.06-.94 2.06-2.06.94zm-11 1L8.5 8.5l.94-2.06 2.06-.94-2.06-.94L8.5 2.5l-.94 2.06-2.06.94zm10 10l.94 2.06.94-2.06 2.06-.94-2.06-.94-.94-2.06-.94 2.06-2.06.94z\"/><path d=\"M17.41 7.96l-1.37-1.37c-.4-.4-.92-.59-1.43-.59-.52 0-1.04.2-1.43.59L10.3 9.45l-7.72 7.72c-.78.78-.78 2.05 0 2.83L4 21.41c.39.39.9.59 1.41.59.51 0 1.02-.2 1.41-.59l7.78-7.78 2.81-2.81c.8-.78.8-2.07 0-2.86zM5.41 20L4 18.59l7.72-7.72 1.47 1.35L5.41 20z\"/>\n",
              "  </svg>\n",
              "      </button>\n",
              "      \n",
              "  <style>\n",
              "    .colab-df-container {\n",
              "      display:flex;\n",
              "      flex-wrap:wrap;\n",
              "      gap: 12px;\n",
              "    }\n",
              "\n",
              "    .colab-df-convert {\n",
              "      background-color: #E8F0FE;\n",
              "      border: none;\n",
              "      border-radius: 50%;\n",
              "      cursor: pointer;\n",
              "      display: none;\n",
              "      fill: #1967D2;\n",
              "      height: 32px;\n",
              "      padding: 0 0 0 0;\n",
              "      width: 32px;\n",
              "    }\n",
              "\n",
              "    .colab-df-convert:hover {\n",
              "      background-color: #E2EBFA;\n",
              "      box-shadow: 0px 1px 2px rgba(60, 64, 67, 0.3), 0px 1px 3px 1px rgba(60, 64, 67, 0.15);\n",
              "      fill: #174EA6;\n",
              "    }\n",
              "\n",
              "    [theme=dark] .colab-df-convert {\n",
              "      background-color: #3B4455;\n",
              "      fill: #D2E3FC;\n",
              "    }\n",
              "\n",
              "    [theme=dark] .colab-df-convert:hover {\n",
              "      background-color: #434B5C;\n",
              "      box-shadow: 0px 1px 3px 1px rgba(0, 0, 0, 0.15);\n",
              "      filter: drop-shadow(0px 1px 2px rgba(0, 0, 0, 0.3));\n",
              "      fill: #FFFFFF;\n",
              "    }\n",
              "  </style>\n",
              "\n",
              "      <script>\n",
              "        const buttonEl =\n",
              "          document.querySelector('#df-d0b34e73-f6f4-4190-950e-b5ad01c2856f button.colab-df-convert');\n",
              "        buttonEl.style.display =\n",
              "          google.colab.kernel.accessAllowed ? 'block' : 'none';\n",
              "\n",
              "        async function convertToInteractive(key) {\n",
              "          const element = document.querySelector('#df-d0b34e73-f6f4-4190-950e-b5ad01c2856f');\n",
              "          const dataTable =\n",
              "            await google.colab.kernel.invokeFunction('convertToInteractive',\n",
              "                                                     [key], {});\n",
              "          if (!dataTable) return;\n",
              "\n",
              "          const docLinkHtml = 'Like what you see? Visit the ' +\n",
              "            '<a target=\"_blank\" href=https://colab.research.google.com/notebooks/data_table.ipynb>data table notebook</a>'\n",
              "            + ' to learn more about interactive tables.';\n",
              "          element.innerHTML = '';\n",
              "          dataTable['output_type'] = 'display_data';\n",
              "          await google.colab.output.renderOutput(dataTable, element);\n",
              "          const docLink = document.createElement('div');\n",
              "          docLink.innerHTML = docLinkHtml;\n",
              "          element.appendChild(docLink);\n",
              "        }\n",
              "      </script>\n",
              "    </div>\n",
              "  </div>\n",
              "  "
            ]
          },
          "metadata": {},
          "execution_count": 17
        }
      ],
      "source": [
        "df.head()"
      ]
    },
    {
      "cell_type": "code",
      "execution_count": 20,
      "metadata": {
        "colab": {
          "base_uri": "https://localhost:8080/"
        },
        "id": "PF5cfEaLoEs4",
        "outputId": "b7bb3cc8-b223-4181-b2e8-34f0b848d01a"
      },
      "outputs": [
        {
          "output_type": "stream",
          "name": "stdout",
          "text": [
            "Unnamed: 0    0\n",
            "asin          0\n",
            "summary       0\n",
            "reviewText    5\n",
            "overall       0\n",
            "reviewTime    0\n",
            "dtype: int64\n"
          ]
        }
      ],
      "source": [
        "# Check for the null value for the dataset\n",
        "print(df.isna().sum())"
      ]
    },
    {
      "cell_type": "code",
      "execution_count": 21,
      "metadata": {
        "id": "mQIT9URvqMGa"
      },
      "outputs": [],
      "source": [
        "# splitting the data into train & test set\n",
        "\n",
        "from sklearn.model_selection import train_test_split\n",
        "train,test=train_test_split(df, test_size=0.3)"
      ]
    },
    {
      "cell_type": "code",
      "execution_count": 22,
      "metadata": {
        "colab": {
          "base_uri": "https://localhost:8080/"
        },
        "id": "yjD8h3UaqY1h",
        "outputId": "7295dbfe-ddd4-42a9-f3b7-fd75a0ad28a5"
      },
      "outputs": [
        {
          "output_type": "stream",
          "name": "stdout",
          "text": [
            "(14000, 6)\n",
            "(6000, 6)\n"
          ]
        }
      ],
      "source": [
        "print(train.shape)\n",
        "print(test.shape)"
      ]
    },
    {
      "cell_type": "markdown",
      "metadata": {
        "id": "Nl5rO85ar0_M"
      },
      "source": [
        "###Data cleaning"
      ]
    },
    {
      "cell_type": "markdown",
      "metadata": {
        "id": "IFeOxlJ8r7mw"
      },
      "source": [
        "Importing the NLTK tools"
      ]
    },
    {
      "cell_type": "code",
      "execution_count": 23,
      "metadata": {
        "colab": {
          "base_uri": "https://localhost:8080/"
        },
        "id": "vPzEiIXMr15h",
        "outputId": "64158757-43b1-4f7d-e844-9fb71c5e3e2d"
      },
      "outputs": [
        {
          "output_type": "stream",
          "name": "stderr",
          "text": [
            "[nltk_data] Downloading package stopwords to /root/nltk_data...\n",
            "[nltk_data]   Unzipping corpora/stopwords.zip.\n"
          ]
        }
      ],
      "source": [
        "import nltk\n",
        "nltk.download('stopwords')\n",
        "from nltk.corpus import stopwords\n",
        "STOPWORDS = set(stopwords.words('english'))\n",
        "from nltk.tokenize import word_tokenize\n",
        "from nltk.stem import WordNetLemmatizer\n",
        "import re\n",
        "import gensim\n",
        "import string"
      ]
    },
    {
      "cell_type": "code",
      "execution_count": 25,
      "metadata": {
        "id": "QkkBwcGvxeb5"
      },
      "outputs": [],
      "source": [
        "#General Imports\n",
        "import numpy as np\n",
        "import pandas as pd\n",
        "import pickle \n",
        "from os.path import join\n",
        "\n",
        "#Preprocessing related imports \n",
        "import nltk\n",
        "# nltk.download('omw-1.4')\n",
        "from nltk.stem import WordNetLemmatizer\n",
        "import gensim.parsing.preprocessing as gpp\n",
        "import gensim.utils as gu"
      ]
    },
    {
      "cell_type": "code",
      "execution_count": 26,
      "metadata": {
        "id": "el6INyGtwc82"
      },
      "outputs": [],
      "source": [
        "def preprocess_text(text):\n",
        "    preprocs = [\n",
        "        gpp.strip_tags, \n",
        "        gpp.strip_punctuation,\n",
        "        gpp.strip_multiple_whitespaces,\n",
        "        gpp.strip_numeric,\n",
        "        gpp.remove_stopwords, \n",
        "        gpp.strip_short, \n",
        "    ]\n",
        "    text = gu.to_unicode(text.lower().strip())\n",
        "    # https://stackoverflow.com/a/49146722/330558\n",
        "    def remove_emoji(text):  \n",
        "      emoji_pattern = re.compile(\"[\"\n",
        "                           u\"\\U0001F600-\\U0001F64F\"  # emoticons\n",
        "                           u\"\\U0001F300-\\U0001F5FF\"  # symbols & pictographs\n",
        "                           u\"\\U0001F680-\\U0001F6FF\"  # transport & map symbols\n",
        "                           u\"\\U0001F1E0-\\U0001F1FF\"  # flags (iOS)\n",
        "                           u\"\\U00002702-\\U000027B0\"\n",
        "                           u\"\\U000024C2-\\U0001F251\"\n",
        "                           \"]+\", flags=re.UNICODE)\n",
        "      return emoji_pattern.sub(r'', string)\n",
        "    for preproc in preprocs:\n",
        "        text = preproc(text)\n",
        "    return text\n",
        "\n",
        "def lemmatize(text):\n",
        "    \"\"\"Lemmatizes a given string text input\"\"\"\n",
        "    wnl = WordNetLemmatizer()\n",
        "    return wnl.lemmatize(text)  "
      ]
    },
    {
      "cell_type": "code",
      "execution_count": 27,
      "metadata": {
        "id": "3Z8pBNLg8Eoo"
      },
      "outputs": [],
      "source": [
        "def preprocess_text(text):\n",
        "    \"\"\"Preprocesses a given string text input\"\"\"\n",
        "    preprocs = [\n",
        "        gpp.strip_tags, \n",
        "        gpp.strip_punctuation,\n",
        "        gpp.strip_multiple_whitespaces,\n",
        "        gpp.strip_numeric,\n",
        "        gpp.remove_stopwords, \n",
        "        gpp.strip_short, \n",
        "    ]\n",
        "    text = gu.to_unicode(text.lower().strip())\n",
        "    for preproc in preprocs:\n",
        "        text = preproc(text)\n",
        "    return text\n",
        "\n",
        "def lemmatize(text):\n",
        "    \"\"\"Lemmatizes a given string text input\"\"\"\n",
        "    wnl = WordNetLemmatizer()\n",
        "    return wnl.lemmatize(text)  "
      ]
    },
    {
      "cell_type": "code",
      "execution_count": 28,
      "metadata": {
        "id": "zE20997jypM-"
      },
      "outputs": [],
      "source": [
        "# Combining both the above functions into a single preprocessing function\n",
        "preprocess = lambda text: lemmatize(preprocess_text(str(text)))"
      ]
    },
    {
      "cell_type": "code",
      "execution_count": 29,
      "metadata": {
        "colab": {
          "base_uri": "https://localhost:8080/"
        },
        "id": "HlPmJVp17fs2",
        "outputId": "6a2f417d-d216-4ae4-8bcd-8ba8c9f3a55f"
      },
      "outputs": [
        {
          "output_type": "execute_result",
          "data": {
            "text/plain": [
              "function"
            ]
          },
          "metadata": {},
          "execution_count": 29
        }
      ],
      "source": [
        "type(preprocess)\n"
      ]
    },
    {
      "cell_type": "code",
      "execution_count": 31,
      "metadata": {
        "colab": {
          "base_uri": "https://localhost:8080/",
          "height": 250
        },
        "id": "91NJxlFc1RjR",
        "outputId": "d33d3489-d311-4a40-bf13-2b14d8dd91ae"
      },
      "outputs": [
        {
          "output_type": "execute_result",
          "data": {
            "text/plain": [
              "       Unnamed: 0        asin                              summary  \\\n",
              "238        267114  B0087GH9C6                                 Junk   \n",
              "7630       205909  B003RP6OUU                            Great kit   \n",
              "14990      713452  B00GIN8YDI     A very honest and touching book.   \n",
              "14334      140486  B006E1A7W0                        The Burn List   \n",
              "15369       42768  B0000AGWEC  More Like the Male Version Of Annie   \n",
              "\n",
              "                                              reviewText  overall  reviewTime  \n",
              "238    Don't waste your money this product is very ch...      0.0  2014-04-17  \n",
              "7630   I had a smaller size, but needed this size for...      1.0  2013-12-31  \n",
              "14990  This starts out as a book about teenage pregna...      1.0  2014-04-15  \n",
              "14334  Abby and Lucas' story will  make you burn.  Is...      1.0  2013-01-02  \n",
              "15369  Let me be frank and honest with you people. Wh...      0.0  2003-10-24  "
            ],
            "text/html": [
              "\n",
              "  <div id=\"df-8cd18abb-140d-4f6c-8552-b747a6741da0\">\n",
              "    <div class=\"colab-df-container\">\n",
              "      <div>\n",
              "<style scoped>\n",
              "    .dataframe tbody tr th:only-of-type {\n",
              "        vertical-align: middle;\n",
              "    }\n",
              "\n",
              "    .dataframe tbody tr th {\n",
              "        vertical-align: top;\n",
              "    }\n",
              "\n",
              "    .dataframe thead th {\n",
              "        text-align: right;\n",
              "    }\n",
              "</style>\n",
              "<table border=\"1\" class=\"dataframe\">\n",
              "  <thead>\n",
              "    <tr style=\"text-align: right;\">\n",
              "      <th></th>\n",
              "      <th>Unnamed: 0</th>\n",
              "      <th>asin</th>\n",
              "      <th>summary</th>\n",
              "      <th>reviewText</th>\n",
              "      <th>overall</th>\n",
              "      <th>reviewTime</th>\n",
              "    </tr>\n",
              "  </thead>\n",
              "  <tbody>\n",
              "    <tr>\n",
              "      <th>238</th>\n",
              "      <td>267114</td>\n",
              "      <td>B0087GH9C6</td>\n",
              "      <td>Junk</td>\n",
              "      <td>Don't waste your money this product is very ch...</td>\n",
              "      <td>0.0</td>\n",
              "      <td>2014-04-17</td>\n",
              "    </tr>\n",
              "    <tr>\n",
              "      <th>7630</th>\n",
              "      <td>205909</td>\n",
              "      <td>B003RP6OUU</td>\n",
              "      <td>Great kit</td>\n",
              "      <td>I had a smaller size, but needed this size for...</td>\n",
              "      <td>1.0</td>\n",
              "      <td>2013-12-31</td>\n",
              "    </tr>\n",
              "    <tr>\n",
              "      <th>14990</th>\n",
              "      <td>713452</td>\n",
              "      <td>B00GIN8YDI</td>\n",
              "      <td>A very honest and touching book.</td>\n",
              "      <td>This starts out as a book about teenage pregna...</td>\n",
              "      <td>1.0</td>\n",
              "      <td>2014-04-15</td>\n",
              "    </tr>\n",
              "    <tr>\n",
              "      <th>14334</th>\n",
              "      <td>140486</td>\n",
              "      <td>B006E1A7W0</td>\n",
              "      <td>The Burn List</td>\n",
              "      <td>Abby and Lucas' story will  make you burn.  Is...</td>\n",
              "      <td>1.0</td>\n",
              "      <td>2013-01-02</td>\n",
              "    </tr>\n",
              "    <tr>\n",
              "      <th>15369</th>\n",
              "      <td>42768</td>\n",
              "      <td>B0000AGWEC</td>\n",
              "      <td>More Like the Male Version Of Annie</td>\n",
              "      <td>Let me be frank and honest with you people. Wh...</td>\n",
              "      <td>0.0</td>\n",
              "      <td>2003-10-24</td>\n",
              "    </tr>\n",
              "  </tbody>\n",
              "</table>\n",
              "</div>\n",
              "      <button class=\"colab-df-convert\" onclick=\"convertToInteractive('df-8cd18abb-140d-4f6c-8552-b747a6741da0')\"\n",
              "              title=\"Convert this dataframe to an interactive table.\"\n",
              "              style=\"display:none;\">\n",
              "        \n",
              "  <svg xmlns=\"http://www.w3.org/2000/svg\" height=\"24px\"viewBox=\"0 0 24 24\"\n",
              "       width=\"24px\">\n",
              "    <path d=\"M0 0h24v24H0V0z\" fill=\"none\"/>\n",
              "    <path d=\"M18.56 5.44l.94 2.06.94-2.06 2.06-.94-2.06-.94-.94-2.06-.94 2.06-2.06.94zm-11 1L8.5 8.5l.94-2.06 2.06-.94-2.06-.94L8.5 2.5l-.94 2.06-2.06.94zm10 10l.94 2.06.94-2.06 2.06-.94-2.06-.94-.94-2.06-.94 2.06-2.06.94z\"/><path d=\"M17.41 7.96l-1.37-1.37c-.4-.4-.92-.59-1.43-.59-.52 0-1.04.2-1.43.59L10.3 9.45l-7.72 7.72c-.78.78-.78 2.05 0 2.83L4 21.41c.39.39.9.59 1.41.59.51 0 1.02-.2 1.41-.59l7.78-7.78 2.81-2.81c.8-.78.8-2.07 0-2.86zM5.41 20L4 18.59l7.72-7.72 1.47 1.35L5.41 20z\"/>\n",
              "  </svg>\n",
              "      </button>\n",
              "      \n",
              "  <style>\n",
              "    .colab-df-container {\n",
              "      display:flex;\n",
              "      flex-wrap:wrap;\n",
              "      gap: 12px;\n",
              "    }\n",
              "\n",
              "    .colab-df-convert {\n",
              "      background-color: #E8F0FE;\n",
              "      border: none;\n",
              "      border-radius: 50%;\n",
              "      cursor: pointer;\n",
              "      display: none;\n",
              "      fill: #1967D2;\n",
              "      height: 32px;\n",
              "      padding: 0 0 0 0;\n",
              "      width: 32px;\n",
              "    }\n",
              "\n",
              "    .colab-df-convert:hover {\n",
              "      background-color: #E2EBFA;\n",
              "      box-shadow: 0px 1px 2px rgba(60, 64, 67, 0.3), 0px 1px 3px 1px rgba(60, 64, 67, 0.15);\n",
              "      fill: #174EA6;\n",
              "    }\n",
              "\n",
              "    [theme=dark] .colab-df-convert {\n",
              "      background-color: #3B4455;\n",
              "      fill: #D2E3FC;\n",
              "    }\n",
              "\n",
              "    [theme=dark] .colab-df-convert:hover {\n",
              "      background-color: #434B5C;\n",
              "      box-shadow: 0px 1px 3px 1px rgba(0, 0, 0, 0.15);\n",
              "      filter: drop-shadow(0px 1px 2px rgba(0, 0, 0, 0.3));\n",
              "      fill: #FFFFFF;\n",
              "    }\n",
              "  </style>\n",
              "\n",
              "      <script>\n",
              "        const buttonEl =\n",
              "          document.querySelector('#df-8cd18abb-140d-4f6c-8552-b747a6741da0 button.colab-df-convert');\n",
              "        buttonEl.style.display =\n",
              "          google.colab.kernel.accessAllowed ? 'block' : 'none';\n",
              "\n",
              "        async function convertToInteractive(key) {\n",
              "          const element = document.querySelector('#df-8cd18abb-140d-4f6c-8552-b747a6741da0');\n",
              "          const dataTable =\n",
              "            await google.colab.kernel.invokeFunction('convertToInteractive',\n",
              "                                                     [key], {});\n",
              "          if (!dataTable) return;\n",
              "\n",
              "          const docLinkHtml = 'Like what you see? Visit the ' +\n",
              "            '<a target=\"_blank\" href=https://colab.research.google.com/notebooks/data_table.ipynb>data table notebook</a>'\n",
              "            + ' to learn more about interactive tables.';\n",
              "          element.innerHTML = '';\n",
              "          dataTable['output_type'] = 'display_data';\n",
              "          await google.colab.output.renderOutput(dataTable, element);\n",
              "          const docLink = document.createElement('div');\n",
              "          docLink.innerHTML = docLinkHtml;\n",
              "          element.appendChild(docLink);\n",
              "        }\n",
              "      </script>\n",
              "    </div>\n",
              "  </div>\n",
              "  "
            ]
          },
          "metadata": {},
          "execution_count": 31
        }
      ],
      "source": [
        "train.head()"
      ]
    },
    {
      "cell_type": "markdown",
      "metadata": {
        "id": "TXdGpNqfYPEX"
      },
      "source": [
        "#Define the model"
      ]
    },
    {
      "cell_type": "code",
      "execution_count": 32,
      "metadata": {
        "id": "Xp9LyMGRYWfW"
      },
      "outputs": [],
      "source": [
        "y_train = train['overall']\n",
        "X_train = train\n",
        "X_train.drop('overall', axis = 1, inplace = True)\n",
        "\n",
        "y_test = test['overall']\n",
        "X_test = test\n",
        "X_test.drop('overall', axis = 1, inplace = True)"
      ]
    },
    {
      "cell_type": "markdown",
      "metadata": {
        "id": "4S6SBAcn3HsD"
      },
      "source": [
        "##Tokenization"
      ]
    },
    {
      "cell_type": "code",
      "execution_count": null,
      "metadata": {
        "id": "lRj32HitK87C"
      },
      "outputs": [],
      "source": [
        "#!python3 -m pip install --upgrade tensorflow"
      ]
    },
    {
      "cell_type": "code",
      "execution_count": 33,
      "metadata": {
        "id": "RY8ricGz3Oqx"
      },
      "outputs": [],
      "source": [
        "import tensorflow as tf\n",
        "from tensorflow.keras.layers.experimental import preprocessing\n",
        "from tensorflow.keras.preprocessing.text import Tokenizer\n",
        "tokenizer = Tokenizer(num_words = 10000)  # maximum of word frequency\n",
        "tokenizer.fit_on_texts(X_train['reviewText'].astype(\"str\"))  # A class of Keras to update the internal vocabulary for the text list"
      ]
    },
    {
      "cell_type": "code",
      "execution_count": 34,
      "metadata": {
        "colab": {
          "base_uri": "https://localhost:8080/"
        },
        "id": "cSOVeG-l41RI",
        "outputId": "23c003f2-2da3-4d8a-e6cd-bbeb8f857450"
      },
      "outputs": [
        {
          "output_type": "execute_result",
          "data": {
            "text/plain": [
              "238      Don't waste your money this product is very ch...\n",
              "7630     I had a smaller size, but needed this size for...\n",
              "14990    This starts out as a book about teenage pregna...\n",
              "14334    Abby and Lucas' story will  make you burn.  Is...\n",
              "15369    Let me be frank and honest with you people. Wh...\n",
              "                               ...                        \n",
              "4160     I hate callouses.  They are ugly and, when the...\n",
              "1614     I was very disappointed with the these shorts....\n",
              "8555     This product did wonders for a sluggish right ...\n",
              "8150     5/5 would lube again.  Works fine not too slim...\n",
              "11453    I couldn't get into this book. I found myself ...\n",
              "Name: reviewText, Length: 14000, dtype: object"
            ]
          },
          "metadata": {},
          "execution_count": 34
        }
      ],
      "source": [
        "X_train['reviewText']"
      ]
    },
    {
      "cell_type": "code",
      "execution_count": 35,
      "metadata": {
        "id": "N0dZg7h2405t"
      },
      "outputs": [],
      "source": [
        "X_train['text_tok'] = tokenizer.texts_to_sequences(X_train['reviewText'].values.astype(\"str\"))\n",
        "X_test['text_tok'] = tokenizer.texts_to_sequences(X_test['reviewText'].values.astype(\"str\"))"
      ]
    },
    {
      "cell_type": "code",
      "execution_count": null,
      "metadata": {
        "colab": {
          "base_uri": "https://localhost:8080/",
          "height": 354
        },
        "id": "NNEIVRvr5Rbh",
        "outputId": "2da127b2-762c-41d7-c5ff-047f00db0f9d"
      },
      "outputs": [
        {
          "output_type": "execute_result",
          "data": {
            "text/plain": [
              "       Unnamed: 0        asin                                         summary  \\\n",
              "14475      785594  B00HS3XJD2                                Got to have more   \n",
              "9113         1330  B000050FDY  Great pricing for a expensive item in stores!!   \n",
              "12096      478723  B00C3JDUJ4                         too much and not enough   \n",
              "8441        17714  B00020I91A                                   Seems to help   \n",
              "2797       134194  B001OLVI5A                        good piece for the price   \n",
              "\n",
              "                                              reviewText  reviewTime  \\\n",
              "14475  WHAT!!!!! it was getting to the good parts. Ma...  2014-05-20   \n",
              "9113   I've our jaded replacement cartridges before a...  2014-01-12   \n",
              "12096  There was entirely too much about staying virg...  2014-05-27   \n",
              "8441   After reading a previous post about using for ...  2012-04-10   \n",
              "2797   THE METAL WAS GOOD QUALITY AND LOOKS GREAT ON ...  2012-04-17   \n",
              "\n",
              "                                                text_tok  \n",
              "14475  [55, 7, 16, 249, 5, 1, 37, 736, 250, 9, 49, 8,...  \n",
              "9113   [141, 337, 8313, 997, 3902, 157, 2, 30, 88, 60...  \n",
              "12096  [56, 16, 1980, 85, 73, 51, 2530, 46, 138, 11, ...  \n",
              "8441   [82, 224, 3, 715, 957, 51, 195, 12, 202, 4, 50...  \n",
              "2797   [1, 482, 16, 37, 208, 2, 485, 62, 13, 1, 221, ...  "
            ],
            "text/html": [
              "\n",
              "  <div id=\"df-636a45f1-6480-4395-a77a-680e907a1087\">\n",
              "    <div class=\"colab-df-container\">\n",
              "      <div>\n",
              "<style scoped>\n",
              "    .dataframe tbody tr th:only-of-type {\n",
              "        vertical-align: middle;\n",
              "    }\n",
              "\n",
              "    .dataframe tbody tr th {\n",
              "        vertical-align: top;\n",
              "    }\n",
              "\n",
              "    .dataframe thead th {\n",
              "        text-align: right;\n",
              "    }\n",
              "</style>\n",
              "<table border=\"1\" class=\"dataframe\">\n",
              "  <thead>\n",
              "    <tr style=\"text-align: right;\">\n",
              "      <th></th>\n",
              "      <th>Unnamed: 0</th>\n",
              "      <th>asin</th>\n",
              "      <th>summary</th>\n",
              "      <th>reviewText</th>\n",
              "      <th>reviewTime</th>\n",
              "      <th>text_tok</th>\n",
              "    </tr>\n",
              "  </thead>\n",
              "  <tbody>\n",
              "    <tr>\n",
              "      <th>14475</th>\n",
              "      <td>785594</td>\n",
              "      <td>B00HS3XJD2</td>\n",
              "      <td>Got to have more</td>\n",
              "      <td>WHAT!!!!! it was getting to the good parts. Ma...</td>\n",
              "      <td>2014-05-20</td>\n",
              "      <td>[55, 7, 16, 249, 5, 1, 37, 736, 250, 9, 49, 8,...</td>\n",
              "    </tr>\n",
              "    <tr>\n",
              "      <th>9113</th>\n",
              "      <td>1330</td>\n",
              "      <td>B000050FDY</td>\n",
              "      <td>Great pricing for a expensive item in stores!!</td>\n",
              "      <td>I've our jaded replacement cartridges before a...</td>\n",
              "      <td>2014-01-12</td>\n",
              "      <td>[141, 337, 8313, 997, 3902, 157, 2, 30, 88, 60...</td>\n",
              "    </tr>\n",
              "    <tr>\n",
              "      <th>12096</th>\n",
              "      <td>478723</td>\n",
              "      <td>B00C3JDUJ4</td>\n",
              "      <td>too much and not enough</td>\n",
              "      <td>There was entirely too much about staying virg...</td>\n",
              "      <td>2014-05-27</td>\n",
              "      <td>[56, 16, 1980, 85, 73, 51, 2530, 46, 138, 11, ...</td>\n",
              "    </tr>\n",
              "    <tr>\n",
              "      <th>8441</th>\n",
              "      <td>17714</td>\n",
              "      <td>B00020I91A</td>\n",
              "      <td>Seems to help</td>\n",
              "      <td>After reading a previous post about using for ...</td>\n",
              "      <td>2012-04-10</td>\n",
              "      <td>[82, 224, 3, 715, 957, 51, 195, 12, 202, 4, 50...</td>\n",
              "    </tr>\n",
              "    <tr>\n",
              "      <th>2797</th>\n",
              "      <td>134194</td>\n",
              "      <td>B001OLVI5A</td>\n",
              "      <td>good piece for the price</td>\n",
              "      <td>THE METAL WAS GOOD QUALITY AND LOOKS GREAT ON ...</td>\n",
              "      <td>2012-04-17</td>\n",
              "      <td>[1, 482, 16, 37, 208, 2, 485, 62, 13, 1, 221, ...</td>\n",
              "    </tr>\n",
              "  </tbody>\n",
              "</table>\n",
              "</div>\n",
              "      <button class=\"colab-df-convert\" onclick=\"convertToInteractive('df-636a45f1-6480-4395-a77a-680e907a1087')\"\n",
              "              title=\"Convert this dataframe to an interactive table.\"\n",
              "              style=\"display:none;\">\n",
              "        \n",
              "  <svg xmlns=\"http://www.w3.org/2000/svg\" height=\"24px\"viewBox=\"0 0 24 24\"\n",
              "       width=\"24px\">\n",
              "    <path d=\"M0 0h24v24H0V0z\" fill=\"none\"/>\n",
              "    <path d=\"M18.56 5.44l.94 2.06.94-2.06 2.06-.94-2.06-.94-.94-2.06-.94 2.06-2.06.94zm-11 1L8.5 8.5l.94-2.06 2.06-.94-2.06-.94L8.5 2.5l-.94 2.06-2.06.94zm10 10l.94 2.06.94-2.06 2.06-.94-2.06-.94-.94-2.06-.94 2.06-2.06.94z\"/><path d=\"M17.41 7.96l-1.37-1.37c-.4-.4-.92-.59-1.43-.59-.52 0-1.04.2-1.43.59L10.3 9.45l-7.72 7.72c-.78.78-.78 2.05 0 2.83L4 21.41c.39.39.9.59 1.41.59.51 0 1.02-.2 1.41-.59l7.78-7.78 2.81-2.81c.8-.78.8-2.07 0-2.86zM5.41 20L4 18.59l7.72-7.72 1.47 1.35L5.41 20z\"/>\n",
              "  </svg>\n",
              "      </button>\n",
              "      \n",
              "  <style>\n",
              "    .colab-df-container {\n",
              "      display:flex;\n",
              "      flex-wrap:wrap;\n",
              "      gap: 12px;\n",
              "    }\n",
              "\n",
              "    .colab-df-convert {\n",
              "      background-color: #E8F0FE;\n",
              "      border: none;\n",
              "      border-radius: 50%;\n",
              "      cursor: pointer;\n",
              "      display: none;\n",
              "      fill: #1967D2;\n",
              "      height: 32px;\n",
              "      padding: 0 0 0 0;\n",
              "      width: 32px;\n",
              "    }\n",
              "\n",
              "    .colab-df-convert:hover {\n",
              "      background-color: #E2EBFA;\n",
              "      box-shadow: 0px 1px 2px rgba(60, 64, 67, 0.3), 0px 1px 3px 1px rgba(60, 64, 67, 0.15);\n",
              "      fill: #174EA6;\n",
              "    }\n",
              "\n",
              "    [theme=dark] .colab-df-convert {\n",
              "      background-color: #3B4455;\n",
              "      fill: #D2E3FC;\n",
              "    }\n",
              "\n",
              "    [theme=dark] .colab-df-convert:hover {\n",
              "      background-color: #434B5C;\n",
              "      box-shadow: 0px 1px 3px 1px rgba(0, 0, 0, 0.15);\n",
              "      filter: drop-shadow(0px 1px 2px rgba(0, 0, 0, 0.3));\n",
              "      fill: #FFFFFF;\n",
              "    }\n",
              "  </style>\n",
              "\n",
              "      <script>\n",
              "        const buttonEl =\n",
              "          document.querySelector('#df-636a45f1-6480-4395-a77a-680e907a1087 button.colab-df-convert');\n",
              "        buttonEl.style.display =\n",
              "          google.colab.kernel.accessAllowed ? 'block' : 'none';\n",
              "\n",
              "        async function convertToInteractive(key) {\n",
              "          const element = document.querySelector('#df-636a45f1-6480-4395-a77a-680e907a1087');\n",
              "          const dataTable =\n",
              "            await google.colab.kernel.invokeFunction('convertToInteractive',\n",
              "                                                     [key], {});\n",
              "          if (!dataTable) return;\n",
              "\n",
              "          const docLinkHtml = 'Like what you see? Visit the ' +\n",
              "            '<a target=\"_blank\" href=https://colab.research.google.com/notebooks/data_table.ipynb>data table notebook</a>'\n",
              "            + ' to learn more about interactive tables.';\n",
              "          element.innerHTML = '';\n",
              "          dataTable['output_type'] = 'display_data';\n",
              "          await google.colab.output.renderOutput(dataTable, element);\n",
              "          const docLink = document.createElement('div');\n",
              "          docLink.innerHTML = docLinkHtml;\n",
              "          element.appendChild(docLink);\n",
              "        }\n",
              "      </script>\n",
              "    </div>\n",
              "  </div>\n",
              "  "
            ]
          },
          "metadata": {},
          "execution_count": 127
        }
      ],
      "source": [
        "X_train.head()"
      ]
    },
    {
      "cell_type": "markdown",
      "metadata": {
        "id": "RbwLvAur8u5y"
      },
      "source": [
        "##Padding and truncating"
      ]
    },
    {
      "cell_type": "code",
      "execution_count": 36,
      "metadata": {
        "id": "EhhvknpI8uil"
      },
      "outputs": [],
      "source": [
        "from tensorflow.keras.preprocessing import sequence\n",
        "max_review_length = 1500      # the maximum length of the input text\n",
        "X_train_pad = sequence.pad_sequences(X_train['text_tok'].values, maxlen=max_review_length,  padding='post')\n",
        "X_test_pad = sequence.pad_sequences(X_test['text_tok'].values, maxlen=max_review_length,  padding='post')"
      ]
    },
    {
      "cell_type": "code",
      "execution_count": 37,
      "metadata": {
        "id": "MO7Of608A00C",
        "colab": {
          "base_uri": "https://localhost:8080/"
        },
        "outputId": "c41033af-75a1-4612-d228-63e270a5ddf3"
      },
      "outputs": [
        {
          "output_type": "execute_result",
          "data": {
            "text/plain": [
              "array([[ 69, 408,  61, ...,   0,   0,   0],\n",
              "       [  4,  57,   3, ...,   0,   0,   0],\n",
              "       [  9, 776,  36, ...,   0,   0,   0],\n",
              "       ...,\n",
              "       [  9,  99, 101, ...,   0,   0,   0],\n",
              "       [140, 140,  49, ...,   0,   0,   0],\n",
              "       [  4, 367,  52, ...,   0,   0,   0]], dtype=int32)"
            ]
          },
          "metadata": {},
          "execution_count": 37
        }
      ],
      "source": [
        "X_train_pad\n",
        "#X_train_pad.shape"
      ]
    },
    {
      "cell_type": "markdown",
      "metadata": {
        "id": "_A77SgfF9MNk"
      },
      "source": [
        "## Using Glove Vector"
      ]
    },
    {
      "cell_type": "code",
      "execution_count": 38,
      "metadata": {
        "id": "VGP6As_MEfPf"
      },
      "outputs": [],
      "source": [
        "embedding_dim = 300\n",
        "def create_embedding_matrix(filepath, word_index, embedding):\n",
        "    vocab_size = len(word_index) + 1\n",
        "    embedding_matrix = np.zeros((vocab_size, embedding_dim))\n",
        "    with open(filepath, encoding=\"utf-8\") as f:\n",
        "        for line in f:\n",
        "            word, *vector = line.split()\n",
        "            if word in word_index:\n",
        "                idx = word_index[word]\n",
        "                embedding_matrix[idx] = np.array(\n",
        "                    vector, dtype=np.float32)[:embedding_dim]\n",
        "    return embedding_matrix"
      ]
    },
    {
      "cell_type": "code",
      "execution_count": 39,
      "metadata": {
        "id": "3GiYS3TWEjtM"
      },
      "outputs": [],
      "source": [
        "embedding_matrix = create_embedding_matrix(r\"/content/drive/MyDrive/R&D/glove.6B.300d.txt\", tokenizer.word_index, embedding_dim)"
      ]
    },
    {
      "cell_type": "code",
      "execution_count": null,
      "metadata": {
        "colab": {
          "base_uri": "https://localhost:8080/"
        },
        "id": "avP_7-kPFCjp",
        "outputId": "1ad67cf8-eb5a-486b-fdd4-bcfe94ad0435"
      },
      "outputs": [
        {
          "data": {
            "text/plain": [
              "array([[ 0.        ,  0.        ,  0.        , ...,  0.        ,\n",
              "         0.        ,  0.        ],\n",
              "       [ 0.04656   ,  0.21318001, -0.0074364 , ...,  0.0090611 ,\n",
              "        -0.20988999,  0.053913  ],\n",
              "       [-0.13292   ,  0.16985001, -0.1436    , ..., -0.23778   ,\n",
              "         0.14766   ,  0.62901998],\n",
              "       [-0.29712   ,  0.094049  , -0.096662  , ...,  0.059717  ,\n",
              "        -0.22853   ,  0.29602   ],\n",
              "       [ 0.038466  , -0.039792  ,  0.082747  , ..., -0.33427   ,\n",
              "         0.011807  ,  0.059703  ]])"
            ]
          },
          "execution_count": 44,
          "metadata": {},
          "output_type": "execute_result"
        }
      ],
      "source": [
        "embedding_matrix[:5]"
      ]
    },
    {
      "cell_type": "code",
      "execution_count": null,
      "metadata": {
        "colab": {
          "base_uri": "https://localhost:8080/"
        },
        "id": "B7FTySvSPjuJ",
        "outputId": "1dbebe54-c461-4bc7-a8e5-4bd1c78eea4f"
      },
      "outputs": [
        {
          "data": {
            "text/plain": [
              "(29193, 300)"
            ]
          },
          "execution_count": 45,
          "metadata": {},
          "output_type": "execute_result"
        }
      ],
      "source": [
        "embedding_matrix.shape"
      ]
    },
    {
      "cell_type": "code",
      "execution_count": 40,
      "metadata": {
        "id": "2DfgjfqHPpy2"
      },
      "outputs": [],
      "source": [
        "from numpy import zeros\n",
        "max_vocabulary = len(tokenizer.word_index)"
      ]
    },
    {
      "cell_type": "code",
      "execution_count": 41,
      "metadata": {
        "id": "CBvWL0ogzhp8"
      },
      "outputs": [],
      "source": [
        "from tensorflow.python.keras.utils import np_utils\n",
        "X_train = X_train_pad\n",
        "X_test = X_test_pad\n",
        "Y_train = y_train\n",
        "Y_test = y_test"
      ]
    },
    {
      "cell_type": "code",
      "execution_count": 42,
      "metadata": {
        "id": "vAY8nrMAyP9m"
      },
      "outputs": [],
      "source": [
        "import pandas as pd\n",
        "from sklearn.preprocessing import LabelEncoder, OneHotEncoder\n",
        "import matplotlib.pyplot as plt\n",
        "from tensorflow.python.keras.models import load_model\n",
        "from sklearn import metrics\n",
        "import seaborn as sns\n",
        "from keras import Sequential\n",
        "from keras.layers import Bidirectional, LSTM, Embedding, Dropout, Dense,Flatten\n",
        "from tensorflow.keras.optimizers import Adam\n",
        "import numpy as np\n",
        "from keras.preprocessing.text import Tokenizer\n",
        "from sklearn.model_selection import train_test_split\n",
        "from keras.wrappers.scikit_learn import KerasClassifier\n",
        "from sklearn.model_selection import RandomizedSearchCV\n",
        "from keras.layers.convolutional import Convolution1D\n",
        "from keras.layers.pooling import MaxPool1D"
      ]
    },
    {
      "cell_type": "code",
      "execution_count": 43,
      "metadata": {
        "colab": {
          "base_uri": "https://localhost:8080/"
        },
        "id": "Pu4r8i64CqSm",
        "outputId": "7fb1051d-932d-47ea-c1cf-21fb0f2d325e"
      },
      "outputs": [
        {
          "output_type": "stream",
          "name": "stdout",
          "text": [
            "Model: \"model\"\n",
            "_________________________________________________________________\n",
            " Layer (type)                Output Shape              Param #   \n",
            "=================================================================\n",
            " reviewText (InputLayer)     [(None, 1500)]            0         \n",
            "                                                                 \n",
            " embedding (Embedding)       (None, 1500, 300)         14451000  \n",
            "                                                                 \n",
            " bidirectional (Bidirectiona  (None, 200)              320800    \n",
            " l)                                                              \n",
            "                                                                 \n",
            " dropout (Dropout)           (None, 200)               0         \n",
            "                                                                 \n",
            " flatten (Flatten)           (None, 200)               0         \n",
            "                                                                 \n",
            " dense (Dense)               (None, 64)                12864     \n",
            "                                                                 \n",
            " dense_1 (Dense)             (None, 8)                 520       \n",
            "                                                                 \n",
            " output (Dense)              (None, 2)                 18        \n",
            "                                                                 \n",
            "=================================================================\n",
            "Total params: 14,785,202\n",
            "Trainable params: 334,202\n",
            "Non-trainable params: 14,451,000\n",
            "_________________________________________________________________\n"
          ]
        }
      ],
      "source": [
        "# Bi-lstm\n",
        "from tensorflow.keras.layers import Dense, Input, Dropout, Flatten, concatenate, LSTM, Conv1D, BatchNormalization, Bidirectional\n",
        "from tensorflow.keras.regularizers import l2\n",
        "from tensorflow.keras.layers import Embedding\n",
        "from tensorflow.keras.models import Model, load_model\n",
        "#from tensorflow.keras.models import Sequential, Model\n",
        "#import tensorflow as tf\n",
        "#tf.compat.v1.disable_v2_behavior()\n",
        "\n",
        "\n",
        "review = Input(shape=(1500,), name='reviewText')\n",
        "\n",
        "X = Embedding(output_dim=300, input_dim=max_vocabulary+1, input_length=1500,weights=[embedding_matrix],trainable=False)(review)\n",
        "lstm_review = Bidirectional(LSTM(100))(X)\n",
        "\n",
        "x = Dropout(0.5)(lstm_review)\n",
        "\n",
        "x = Flatten()(x)\n",
        "\n",
        "x = Dense(64,activation=\"relu\",kernel_initializer=\"he_normal\", kernel_regularizer=l2(0.001))(x)\n",
        "\n",
        "x = Dense(8,activation=\"relu\",kernel_initializer=\"he_normal\", kernel_regularizer=l2(0.001))(x)\n",
        "                                    \n",
        "#output = Dense(8, activation='sigmoid', name='output')(x)\n",
        "output = Dense(2, activation='sigmoid', name='output')(x)\n",
        "\n",
        "model = Model(inputs=[review],outputs=[output])\n",
        "\n",
        "model.summary()\n",
        "\n"
      ]
    },
    {
      "cell_type": "code",
      "execution_count": 108,
      "metadata": {
        "colab": {
          "base_uri": "https://localhost:8080/",
          "height": 865
        },
        "id": "9HGbyi45zurf",
        "outputId": "c123349b-9cca-4be1-bfa9-2922d1f741c4"
      },
      "outputs": [
        {
          "output_type": "execute_result",
          "data": {
            "image/png": "[encoded data removed]",
            "text/plain": [
              "<IPython.core.display.Image object>"
            ]
          },
          "metadata": {},
          "execution_count": 108
        }
      ],
      "source": [
        "# plotting the Model\n",
        "from tensorflow.keras.utils import plot_model\n",
        "plot_model(model,show_shapes=True, show_layer_names=True)"
      ]
    },
    {
      "cell_type": "code",
      "source": [
        "model.compile(loss='categorical_crossentropy',\n",
        "              optimizer=Adam(0.001),\n",
        "              metrics=['acc'])\n",
        "epochs=10\n",
        "history=model.fit(X_train, np_utils.to_categorical(Y_train), \n",
        "                  validation_data=(X_test, np_utils.to_categorical(Y_test)), \n",
        "                  epochs=epochs, batch_size=16)"
      ],
      "metadata": {
        "colab": {
          "base_uri": "https://localhost:8080/"
        },
        "id": "JNcChBU2Gi2x",
        "outputId": "72224ef9-1d64-4a21-b2b1-7036971d139a"
      },
      "execution_count": 44,
      "outputs": [
        {
          "output_type": "stream",
          "name": "stdout",
          "text": [
            "Epoch 1/10\n",
            "875/875 [==============================] - 127s 137ms/step - loss: 0.6367 - acc: 0.6859 - val_loss: 0.4832 - val_acc: 0.7913\n",
            "Epoch 2/10\n",
            "875/875 [==============================] - 120s 137ms/step - loss: 0.4835 - acc: 0.7914 - val_loss: 0.4217 - val_acc: 0.8207\n",
            "Epoch 3/10\n",
            "875/875 [==============================] - 121s 138ms/step - loss: 0.4131 - acc: 0.8254 - val_loss: 0.3880 - val_acc: 0.8368\n",
            "Epoch 4/10\n",
            "875/875 [==============================] - 119s 136ms/step - loss: 0.3515 - acc: 0.8579 - val_loss: 0.3679 - val_acc: 0.8423\n",
            "Epoch 5/10\n",
            "875/875 [==============================] - 118s 135ms/step - loss: 0.3120 - acc: 0.8744 - val_loss: 0.3443 - val_acc: 0.8570\n",
            "Epoch 6/10\n",
            "875/875 [==============================] - 119s 136ms/step - loss: 0.3061 - acc: 0.8800 - val_loss: 0.3698 - val_acc: 0.8478\n",
            "Epoch 7/10\n",
            "875/875 [==============================] - 125s 143ms/step - loss: 0.2737 - acc: 0.8927 - val_loss: 0.3873 - val_acc: 0.8365\n",
            "Epoch 8/10\n",
            "875/875 [==============================] - 121s 138ms/step - loss: 0.2317 - acc: 0.9111 - val_loss: 0.3634 - val_acc: 0.8625\n",
            "Epoch 9/10\n",
            "875/875 [==============================] - 119s 137ms/step - loss: 0.1935 - acc: 0.9301 - val_loss: 0.3727 - val_acc: 0.8640\n",
            "Epoch 10/10\n",
            "875/875 [==============================] - 122s 139ms/step - loss: 0.1692 - acc: 0.9394 - val_loss: 0.3722 - val_acc: 0.8482\n"
          ]
        }
      ]
    },
    {
      "cell_type": "code",
      "execution_count": 45,
      "metadata": {
        "outputId": "284c318b-417b-40a7-8641-f53853ed0c57",
        "colab": {
          "base_uri": "https://localhost:8080/",
          "height": 644
        },
        "id": "yrfO4ocJRJ8N"
      },
      "outputs": [
        {
          "output_type": "stream",
          "name": "stdout",
          "text": [
            "438/438 [==============================] - 22s 48ms/step - loss: 0.1421 - acc: 0.9583\n",
            "train_acc= 0.9583\n",
            "188/188 [==============================] - 9s 48ms/step - loss: 0.3722 - acc: 0.8482\n",
            "val_acc= 0.8482\n"
          ]
        },
        {
          "output_type": "display_data",
          "data": {
            "text/plain": [
              "<Figure size 432x288 with 1 Axes>"
            ],
            "image/png": "[encoded data removed]"
          },
          "metadata": {
            "needs_background": "light"
          }
        },
        {
          "output_type": "display_data",
          "data": {
            "text/plain": [
              "<Figure size 432x288 with 1 Axes>"
            ],
            "image/png": "[encoded data removed]"
          },
          "metadata": {
            "needs_background": "light"
          }
        }
      ],
      "source": [
        "loss,accuracy=model.evaluate(X_train,np_utils.to_categorical(Y_train))\n",
        "print(\"train_acc= {:.4f}\".format(accuracy))\n",
        "loss, accuracy = model.evaluate(X_test, np_utils.to_categorical(Y_test))\n",
        "print(\"val_acc= {:.4f}\".format(accuracy))\n",
        "\n",
        "#record\n",
        "history_dict = history.history\n",
        "train_loss = history_dict[\"loss\"]\n",
        "train_accuracy = history_dict[\"acc\"]\n",
        "val_loss = history_dict[\"val_loss\"]\n",
        "val_accuracy = history_dict[\"val_acc\"]\n",
        "\n",
        "#loss\n",
        "plt.figure()\n",
        "plt.plot(range(epochs), train_loss, label='train_loss')\n",
        "plt.plot(range(epochs), val_loss, label='val_loss')\n",
        "plt.title('Loss graph')\n",
        "plt.legend()\n",
        "plt.xlabel('epochs')\n",
        "plt.ylabel('loss')\n",
        "\n",
        "#accuracy\n",
        "plt.figure()\n",
        "plt.plot(range(epochs), train_accuracy, label='train_accuracy')\n",
        "plt.plot(range(epochs), val_accuracy, label='val_accuracy')\n",
        "plt.legend()\n",
        "plt.title(\"Accuracy graph\")\n",
        "plt.xlabel('epochs')\n",
        "plt.ylabel('accuracy')\n",
        "plt.show()"
      ]
    },
    {
      "cell_type": "code",
      "execution_count": 46,
      "metadata": {
        "id": "e1iqNIgFsJOp",
        "colab": {
          "base_uri": "https://localhost:8080/",
          "height": 788
        },
        "outputId": "114ff832-422d-4123-8e4f-10ff2deeca12"
      },
      "outputs": [
        {
          "output_type": "stream",
          "name": "stdout",
          "text": [
            "Model prediction...........\n",
            "188/188 [==============================] - 12s 60ms/step\n",
            "[[2385  611]\n",
            " [ 300 2704]]\n",
            "              precision    recall  f1-score   support\n",
            "\n",
            "         0.0       0.89      0.80      0.84      2996\n",
            "         1.0       0.82      0.90      0.86      3004\n",
            "\n",
            "    accuracy                           0.85      6000\n",
            "   macro avg       0.85      0.85      0.85      6000\n",
            "weighted avg       0.85      0.85      0.85      6000\n",
            "\n"
          ]
        },
        {
          "output_type": "display_data",
          "data": {
            "text/plain": [
              "<Figure size 576x576 with 1 Axes>"
            ],
            "image/png": "[encoded data removed]"
          },
          "metadata": {
            "needs_background": "light"
          }
        },
        {
          "output_type": "stream",
          "name": "stdout",
          "text": [
            "188/188 [==============================] - 9s 47ms/step - loss: 0.3722 - acc: 0.8482\n",
            "test_acc= 0.8482\n"
          ]
        }
      ],
      "source": [
        "# kindle_store\n",
        "print(\"Model prediction...........\")\n",
        "test_pre = model.predict(X_test)\n",
        "# Evaluate the prediction effect and calculate the confusion matrix\n",
        "confm = metrics.confusion_matrix(Y_test, np.argmax(test_pre, axis=1))\n",
        "print(confm)\n",
        "# Confusion matrix plot\n",
        "Labname = [\"0\", \"1\"]\n",
        "print(metrics.classification_report(Y_test, np.argmax(test_pre, axis=1)))\n",
        "plt.figure(figsize=(8, 8))\n",
        "sns.heatmap(confm.T, square=True, annot=True,\n",
        "            fmt='d', cbar=False, linewidths=.6,\n",
        "            cmap=\"YlGnBu\")\n",
        "plt.xlabel('True label', size=14)\n",
        "plt.ylabel('Predicted label', size=14)\n",
        "plt.xticks(np.arange(2) + 0.5, Labname, size=12)\n",
        "plt.yticks(np.arange(2) + 0.5, Labname, size=12)\n",
        "plt.title('BiLSTM')\n",
        "# plt.savefig('result_lstm_word2vec.png')\n",
        "plt.show()\n",
        "loss, accuracy = model.evaluate(X_test, np_utils.to_categorical(Y_test))\n",
        "print(\"test_acc= {:.4f}\".format(accuracy))"
      ]
    },
    {
      "cell_type": "code",
      "execution_count": null,
      "metadata": {
        "colab": {
          "base_uri": "https://localhost:8080/",
          "height": 788
        },
        "id": "iQqOlfYrJNQD",
        "outputId": "7eaade69-c3d6-4fec-f293-bed57613d0b4"
      },
      "outputs": [
        {
          "output_type": "stream",
          "name": "stdout",
          "text": [
            "Model prediction...........\n",
            "188/188 [==============================] - 12s 58ms/step\n",
            "[[2645  416]\n",
            " [ 371 2568]]\n",
            "              precision    recall  f1-score   support\n",
            "\n",
            "         0.0       0.88      0.86      0.87      3061\n",
            "         1.0       0.86      0.87      0.87      2939\n",
            "\n",
            "    accuracy                           0.87      6000\n",
            "   macro avg       0.87      0.87      0.87      6000\n",
            "weighted avg       0.87      0.87      0.87      6000\n",
            "\n"
          ]
        },
        {
          "output_type": "display_data",
          "data": {
            "text/plain": [
              "<Figure size 576x576 with 1 Axes>"
            ],
            "image/png": "[encoded data removed]"
          },
          "metadata": {
            "needs_background": "light"
          }
        },
        {
          "output_type": "stream",
          "name": "stdout",
          "text": [
            "188/188 [==============================] - 12s 61ms/step - loss: 0.4326 - acc: 0.8688\n",
            "test_acc= 0.8688\n"
          ]
        }
      ],
      "source": [
        "# sport_outdoor\n",
        "print(\"Model prediction...........\")\n",
        "test_pre = model.predict(X_test)\n",
        "# Evaluate the prediction effect and calculate the confusion matrix\n",
        "confm = metrics.confusion_matrix(Y_test, np.argmax(test_pre, axis=1))\n",
        "print(confm)\n",
        "# Confusion matrix plot\n",
        "Labname = [\"0\", \"1\"]\n",
        "print(metrics.classification_report(Y_test, np.argmax(test_pre, axis=1)))\n",
        "plt.figure(figsize=(8, 8))\n",
        "sns.heatmap(confm.T, square=True, annot=True,\n",
        "            fmt='d', cbar=False, linewidths=.6,\n",
        "            cmap=\"YlGnBu\")\n",
        "plt.xlabel('True label', size=14)\n",
        "plt.ylabel('Predicted label', size=14)\n",
        "plt.xticks(np.arange(2) + 0.5, Labname, size=12)\n",
        "plt.yticks(np.arange(2) + 0.5, Labname, size=12)\n",
        "plt.title('word2vec+lstm')\n",
        "# plt.savefig('result_lstm_word2vec.png')\n",
        "plt.show()\n",
        "loss, accuracy = model.evaluate(X_test, np_utils.to_categorical(Y_test))\n",
        "print(\"test_acc= {:.4f}\".format(accuracy))"
      ]
    },
    {
      "cell_type": "markdown",
      "metadata": {
        "id": "JcEiggNc8zS_"
      },
      "source": [
        "Bi-LSTM-CNN"
      ]
    },
    {
      "cell_type": "code",
      "execution_count": 47,
      "metadata": {
        "id": "RlBMuvtiXu5G"
      },
      "outputs": [],
      "source": [
        "epochs_num = 10\n",
        "num_label = 2\n",
        "max_len = 1500\n",
        "embedding_dim = 300\n",
        "\n",
        "lstm_size=64\n",
        "conkernel_num=32\n",
        "conkernel_size=5\n",
        "pool_size_num=3\n",
        "dropout_rate=0.3\n",
        "kernel_num=64"
      ]
    },
    {
      "cell_type": "code",
      "execution_count": 48,
      "metadata": {
        "id": "ag1EBbTKXf74"
      },
      "outputs": [],
      "source": [
        "def created_model(lstm_size, vocab_size, embedding_dim, max_len,conkernel_num, conkernel_size,pool_size_num ,dropout_rate,kernel_num,num_label):\n",
        "    model = Sequential()\n",
        "    model.add(Embedding(input_dim=vocab_size, output_dim=embedding_dim,\n",
        "                        weights=[embedding_matrix], input_length=max_len,\n",
        "                        trainable=True))\n",
        "    model.add(Bidirectional(LSTM(lstm_size, return_sequences=True)))\n",
        "    model.add(Convolution1D(conkernel_num, conkernel_size, padding='same', strides=1, activation='relu'))\n",
        "    model.add(MaxPool1D(pool_size=pool_size_num))\n",
        "    model.add(Flatten())\n",
        "    model.add(Dense(kernel_num, activation='relu'))\n",
        "    model.add(Dropout(dropout_rate))\n",
        "    model.add(Dense(num_label, activation='softmax'))\n",
        "    model.summary()\n",
        "    model.compile(optimizer=Adam(0.001), loss='categorical_crossentropy', metrics=[\"accuracy\"])\n",
        "    return model"
      ]
    },
    {
      "cell_type": "code",
      "execution_count": 49,
      "metadata": {
        "id": "zsu_yCKvX5gV"
      },
      "outputs": [],
      "source": [
        "param_grid = dict(lstm_size=[64],\n",
        "                  vocab_size=[len(tokenizer.index_word) + 1],\n",
        "                  embedding_dim=[embedding_dim],\n",
        "                  max_len=[max_len],\n",
        "                  conkernel_num=[32],\n",
        "                  conkernel_size=[3,5],\n",
        "                  pool_size_num=[3],\n",
        "                  dropout_rate=[0.3],\n",
        "                  kernel_num=[64],\n",
        "                  num_label=[2],\n",
        "                  )\n",
        "\n",
        "param_outputflie = './param_out.txt'"
      ]
    },
    {
      "cell_type": "code",
      "execution_count": 50,
      "metadata": {
        "colab": {
          "base_uri": "https://localhost:8080/"
        },
        "outputId": "bba759b2-3521-460c-b8cd-49fc246445f3",
        "id": "mtP6CC193KIT"
      },
      "outputs": [
        {
          "output_type": "stream",
          "name": "stderr",
          "text": [
            "<ipython-input-50-8c8f1cba2665>:2: DeprecationWarning: KerasClassifier is deprecated, use Sci-Keras (https://github.com/adriangb/scikeras) instead. See https://www.adriangb.com/scikeras/stable/migration.html for help migrating.\n",
            "  model = KerasClassifier(build_fn=created_model, epochs=epochs_num, batch_size=16, verbose=True)\n"
          ]
        },
        {
          "output_type": "stream",
          "name": "stdout",
          "text": [
            "Fitting 4 folds for each of 1 candidates, totalling 4 fits\n",
            "Model: \"sequential\"\n",
            "_________________________________________________________________\n",
            " Layer (type)                Output Shape              Param #   \n",
            "=================================================================\n",
            " embedding_1 (Embedding)     (None, 1500, 300)         14451000  \n",
            "                                                                 \n",
            " bidirectional_1 (Bidirectio  (None, 1500, 128)        186880    \n",
            " nal)                                                            \n",
            "                                                                 \n",
            " conv1d (Conv1D)             (None, 1500, 32)          12320     \n",
            "                                                                 \n",
            " max_pooling1d (MaxPooling1D  (None, 500, 32)          0         \n",
            " )                                                               \n",
            "                                                                 \n",
            " flatten_1 (Flatten)         (None, 16000)             0         \n",
            "                                                                 \n",
            " dense_2 (Dense)             (None, 64)                1024064   \n",
            "                                                                 \n",
            " dropout_1 (Dropout)         (None, 64)                0         \n",
            "                                                                 \n",
            " dense_3 (Dense)             (None, 2)                 130       \n",
            "                                                                 \n",
            "=================================================================\n",
            "Total params: 15,674,394\n",
            "Trainable params: 15,674,394\n",
            "Non-trainable params: 0\n",
            "_________________________________________________________________\n",
            "Epoch 1/10\n",
            "657/657 [==============================] - 76s 106ms/step - loss: 0.4781 - accuracy: 0.7552\n",
            "Epoch 2/10\n",
            "657/657 [==============================] - 66s 101ms/step - loss: 0.2466 - accuracy: 0.9038\n",
            "Epoch 3/10\n",
            "657/657 [==============================] - 66s 100ms/step - loss: 0.1307 - accuracy: 0.9508\n",
            "Epoch 4/10\n",
            "657/657 [==============================] - 66s 100ms/step - loss: 0.0676 - accuracy: 0.9759\n",
            "Epoch 5/10\n",
            "657/657 [==============================] - 65s 99ms/step - loss: 0.0396 - accuracy: 0.9871\n",
            "Epoch 6/10\n",
            "657/657 [==============================] - 65s 98ms/step - loss: 0.0171 - accuracy: 0.9943\n",
            "Epoch 7/10\n",
            "657/657 [==============================] - 67s 101ms/step - loss: 0.0140 - accuracy: 0.9960\n",
            "Epoch 8/10\n",
            "657/657 [==============================] - 67s 102ms/step - loss: 0.0189 - accuracy: 0.9945\n",
            "Epoch 9/10\n",
            "657/657 [==============================] - 66s 101ms/step - loss: 0.0135 - accuracy: 0.9965\n",
            "Epoch 10/10\n",
            "657/657 [==============================] - 67s 101ms/step - loss: 0.0136 - accuracy: 0.9966\n",
            "219/219 [==============================] - 12s 52ms/step - loss: 0.9877 - accuracy: 0.8437\n",
            "Model: \"sequential_1\"\n",
            "_________________________________________________________________\n",
            " Layer (type)                Output Shape              Param #   \n",
            "=================================================================\n",
            " embedding_2 (Embedding)     (None, 1500, 300)         14451000  \n",
            "                                                                 \n",
            " bidirectional_2 (Bidirectio  (None, 1500, 128)        186880    \n",
            " nal)                                                            \n",
            "                                                                 \n",
            " conv1d_1 (Conv1D)           (None, 1500, 32)          12320     \n",
            "                                                                 \n",
            " max_pooling1d_1 (MaxPooling  (None, 500, 32)          0         \n",
            " 1D)                                                             \n",
            "                                                                 \n",
            " flatten_2 (Flatten)         (None, 16000)             0         \n",
            "                                                                 \n",
            " dense_4 (Dense)             (None, 64)                1024064   \n",
            "                                                                 \n",
            " dropout_2 (Dropout)         (None, 64)                0         \n",
            "                                                                 \n",
            " dense_5 (Dense)             (None, 2)                 130       \n",
            "                                                                 \n",
            "=================================================================\n",
            "Total params: 15,674,394\n",
            "Trainable params: 15,674,394\n",
            "Non-trainable params: 0\n",
            "_________________________________________________________________\n",
            "Epoch 1/10\n",
            "657/657 [==============================] - 67s 98ms/step - loss: 0.4686 - accuracy: 0.7649\n",
            "Epoch 2/10\n",
            "657/657 [==============================] - 66s 100ms/step - loss: 0.2454 - accuracy: 0.9018\n",
            "Epoch 3/10\n",
            "657/657 [==============================] - 64s 98ms/step - loss: 0.1303 - accuracy: 0.9501\n",
            "Epoch 4/10\n",
            "657/657 [==============================] - 66s 100ms/step - loss: 0.0590 - accuracy: 0.9801\n",
            "Epoch 5/10\n",
            "657/657 [==============================] - 67s 102ms/step - loss: 0.0360 - accuracy: 0.9874\n",
            "Epoch 6/10\n",
            "657/657 [==============================] - 65s 99ms/step - loss: 0.0235 - accuracy: 0.9929\n",
            "Epoch 7/10\n",
            "657/657 [==============================] - 64s 98ms/step - loss: 0.0200 - accuracy: 0.9937\n",
            "Epoch 8/10\n",
            "657/657 [==============================] - 65s 99ms/step - loss: 0.0198 - accuracy: 0.9940\n",
            "Epoch 9/10\n",
            "657/657 [==============================] - 63s 97ms/step - loss: 0.0135 - accuracy: 0.9958\n",
            "Epoch 10/10\n",
            "657/657 [==============================] - 63s 97ms/step - loss: 0.0065 - accuracy: 0.9981\n",
            "219/219 [==============================] - 12s 51ms/step - loss: 1.4767 - accuracy: 0.8503\n",
            "Model: \"sequential_2\"\n",
            "_________________________________________________________________\n",
            " Layer (type)                Output Shape              Param #   \n",
            "=================================================================\n",
            " embedding_3 (Embedding)     (None, 1500, 300)         14451000  \n",
            "                                                                 \n",
            " bidirectional_3 (Bidirectio  (None, 1500, 128)        186880    \n",
            " nal)                                                            \n",
            "                                                                 \n",
            " conv1d_2 (Conv1D)           (None, 1500, 32)          12320     \n",
            "                                                                 \n",
            " max_pooling1d_2 (MaxPooling  (None, 500, 32)          0         \n",
            " 1D)                                                             \n",
            "                                                                 \n",
            " flatten_3 (Flatten)         (None, 16000)             0         \n",
            "                                                                 \n",
            " dense_6 (Dense)             (None, 64)                1024064   \n",
            "                                                                 \n",
            " dropout_3 (Dropout)         (None, 64)                0         \n",
            "                                                                 \n",
            " dense_7 (Dense)             (None, 2)                 130       \n",
            "                                                                 \n",
            "=================================================================\n",
            "Total params: 15,674,394\n",
            "Trainable params: 15,674,394\n",
            "Non-trainable params: 0\n",
            "_________________________________________________________________\n",
            "Epoch 1/10\n",
            "657/657 [==============================] - 68s 99ms/step - loss: 0.4608 - accuracy: 0.7750\n",
            "Epoch 2/10\n",
            "657/657 [==============================] - 64s 97ms/step - loss: 0.2372 - accuracy: 0.9057\n",
            "Epoch 3/10\n",
            "657/657 [==============================] - 65s 99ms/step - loss: 0.1307 - accuracy: 0.9510\n",
            "Epoch 4/10\n",
            "657/657 [==============================] - 66s 100ms/step - loss: 0.0633 - accuracy: 0.9773\n",
            "Epoch 5/10\n",
            "657/657 [==============================] - 65s 98ms/step - loss: 0.0378 - accuracy: 0.9876\n",
            "Epoch 6/10\n",
            "657/657 [==============================] - 64s 98ms/step - loss: 0.0265 - accuracy: 0.9911\n",
            "Epoch 7/10\n",
            "657/657 [==============================] - 66s 101ms/step - loss: 0.0206 - accuracy: 0.9935\n",
            "Epoch 8/10\n",
            "657/657 [==============================] - 64s 98ms/step - loss: 0.0145 - accuracy: 0.9952\n",
            "Epoch 9/10\n",
            "657/657 [==============================] - 65s 99ms/step - loss: 0.0170 - accuracy: 0.9950\n",
            "Epoch 10/10\n",
            "657/657 [==============================] - 66s 101ms/step - loss: 0.0128 - accuracy: 0.9964\n",
            "219/219 [==============================] - 14s 59ms/step - loss: 1.4492 - accuracy: 0.8477\n",
            "Model: \"sequential_3\"\n",
            "_________________________________________________________________\n",
            " Layer (type)                Output Shape              Param #   \n",
            "=================================================================\n",
            " embedding_4 (Embedding)     (None, 1500, 300)         14451000  \n",
            "                                                                 \n",
            " bidirectional_4 (Bidirectio  (None, 1500, 128)        186880    \n",
            " nal)                                                            \n",
            "                                                                 \n",
            " conv1d_3 (Conv1D)           (None, 1500, 32)          12320     \n",
            "                                                                 \n",
            " max_pooling1d_3 (MaxPooling  (None, 500, 32)          0         \n",
            " 1D)                                                             \n",
            "                                                                 \n",
            " flatten_4 (Flatten)         (None, 16000)             0         \n",
            "                                                                 \n",
            " dense_8 (Dense)             (None, 64)                1024064   \n",
            "                                                                 \n",
            " dropout_4 (Dropout)         (None, 64)                0         \n",
            "                                                                 \n",
            " dense_9 (Dense)             (None, 2)                 130       \n",
            "                                                                 \n",
            "=================================================================\n",
            "Total params: 15,674,394\n",
            "Trainable params: 15,674,394\n",
            "Non-trainable params: 0\n",
            "_________________________________________________________________\n",
            "Epoch 1/10\n",
            "657/657 [==============================] - 71s 104ms/step - loss: 0.5011 - accuracy: 0.7334\n",
            "Epoch 2/10\n",
            "657/657 [==============================] - 69s 105ms/step - loss: 0.2587 - accuracy: 0.8998\n",
            "Epoch 3/10\n",
            "657/657 [==============================] - 67s 102ms/step - loss: 0.1358 - accuracy: 0.9523\n",
            "Epoch 4/10\n",
            "657/657 [==============================] - 68s 103ms/step - loss: 0.0720 - accuracy: 0.9750\n",
            "Epoch 5/10\n",
            "657/657 [==============================] - 67s 102ms/step - loss: 0.0314 - accuracy: 0.9896\n",
            "Epoch 6/10\n",
            "657/657 [==============================] - 65s 99ms/step - loss: 0.0363 - accuracy: 0.9903\n",
            "Epoch 7/10\n",
            "657/657 [==============================] - 67s 102ms/step - loss: 0.0139 - accuracy: 0.9950\n",
            "Epoch 8/10\n",
            "657/657 [==============================] - 66s 100ms/step - loss: 0.0100 - accuracy: 0.9967\n",
            "Epoch 9/10\n",
            "657/657 [==============================] - 65s 99ms/step - loss: 0.0176 - accuracy: 0.9941\n",
            "Epoch 10/10\n",
            "657/657 [==============================] - 67s 102ms/step - loss: 0.0075 - accuracy: 0.9971\n",
            "219/219 [==============================] - 13s 55ms/step - loss: 1.5204 - accuracy: 0.8426\n",
            "Model: \"sequential_4\"\n",
            "_________________________________________________________________\n",
            " Layer (type)                Output Shape              Param #   \n",
            "=================================================================\n",
            " embedding_5 (Embedding)     (None, 1500, 300)         14451000  \n",
            "                                                                 \n",
            " bidirectional_5 (Bidirectio  (None, 1500, 128)        186880    \n",
            " nal)                                                            \n",
            "                                                                 \n",
            " conv1d_4 (Conv1D)           (None, 1500, 32)          12320     \n",
            "                                                                 \n",
            " max_pooling1d_4 (MaxPooling  (None, 500, 32)          0         \n",
            " 1D)                                                             \n",
            "                                                                 \n",
            " flatten_5 (Flatten)         (None, 16000)             0         \n",
            "                                                                 \n",
            " dense_10 (Dense)            (None, 64)                1024064   \n",
            "                                                                 \n",
            " dropout_5 (Dropout)         (None, 64)                0         \n",
            "                                                                 \n",
            " dense_11 (Dense)            (None, 2)                 130       \n",
            "                                                                 \n",
            "=================================================================\n",
            "Total params: 15,674,394\n",
            "Trainable params: 15,674,394\n",
            "Non-trainable params: 0\n",
            "_________________________________________________________________\n",
            "Epoch 1/10\n",
            "875/875 [==============================] - 91s 100ms/step - loss: 0.4617 - accuracy: 0.7631\n",
            "Epoch 2/10\n",
            "875/875 [==============================] - 90s 103ms/step - loss: 0.2406 - accuracy: 0.9064\n",
            "Epoch 3/10\n",
            "875/875 [==============================] - 89s 102ms/step - loss: 0.1291 - accuracy: 0.9511\n",
            "Epoch 4/10\n",
            "875/875 [==============================] - 90s 103ms/step - loss: 0.0680 - accuracy: 0.9760\n",
            "Epoch 5/10\n",
            "875/875 [==============================] - 90s 103ms/step - loss: 0.0393 - accuracy: 0.9883\n",
            "Epoch 6/10\n",
            "875/875 [==============================] - 89s 102ms/step - loss: 0.0223 - accuracy: 0.9936\n",
            "Epoch 7/10\n",
            "875/875 [==============================] - 88s 101ms/step - loss: 0.0162 - accuracy: 0.9948\n",
            "Epoch 8/10\n",
            "875/875 [==============================] - 90s 102ms/step - loss: 0.0139 - accuracy: 0.9957\n",
            "Epoch 9/10\n",
            "875/875 [==============================] - 88s 101ms/step - loss: 0.0114 - accuracy: 0.9963\n",
            "Epoch 10/10\n",
            "875/875 [==============================] - 89s 102ms/step - loss: 0.0078 - accuracy: 0.9979\n",
            "375/375 [==============================] - 22s 57ms/step - loss: 1.1036 - accuracy: 0.8565\n",
            "best Accuracy:0.8461\n",
            "{'vocab_size': 48170, 'pool_size_num': 3, 'num_label': 2, 'max_len': 1500, 'lstm_size': 64, 'kernel_num': 64, 'embedding_dim': 300, 'dropout_rate': 0.3, 'conkernel_size': 3, 'conkernel_num': 32}\n",
            " test accuracy: 0.8565\n",
            "\n",
            "\n"
          ]
        }
      ],
      "source": [
        "# All\n",
        "model = KerasClassifier(build_fn=created_model, epochs=epochs_num, batch_size=16, verbose=True)\n",
        "grid = RandomizedSearchCV(estimator=model, param_distributions=param_grid, cv=4, verbose=1, n_iter=1)  # n_iter=5\n",
        "grid_result = grid.fit(X_train_pad, y_train)\n",
        "#\n",
        "test_accuracy = grid.score(X_test_pad, y_test)\n",
        "\n",
        "with open(param_outputflie, 'a') as f:\n",
        "    s = ('best Accuracy:'\n",
        "         '{:.4f}\\n{}\\n test accuracy: {:.4f}\\n\\n')\n",
        "    output_string = s.format(\n",
        "        grid_result.best_score_,\n",
        "        grid_result.best_params_,\n",
        "        test_accuracy\n",
        "    )\n",
        "    print(output_string)\n",
        "    f.write(output_string)\n"
      ]
    },
    {
      "cell_type": "code",
      "execution_count": 106,
      "metadata": {
        "colab": {
          "base_uri": "https://localhost:8080/"
        },
        "outputId": "1d839107-bc86-40d9-d444-237a38911721",
        "id": "47jL_7310b2a"
      },
      "outputs": [
        {
          "output_type": "stream",
          "name": "stderr",
          "text": [
            "<ipython-input-106-f4aeb2dc1bbd>:2: DeprecationWarning: KerasClassifier is deprecated, use Sci-Keras (https://github.com/adriangb/scikeras) instead. See https://www.adriangb.com/scikeras/stable/migration.html for help migrating.\n",
            "  model = KerasClassifier(build_fn=created_model, epochs=epochs_num, batch_size=16, verbose=True)\n"
          ]
        },
        {
          "output_type": "stream",
          "name": "stdout",
          "text": [
            "Fitting 4 folds for each of 1 candidates, totalling 4 fits\n",
            "Model: \"sequential_7\"\n",
            "_________________________________________________________________\n",
            " Layer (type)                Output Shape              Param #   \n",
            "=================================================================\n",
            " embedding_7 (Embedding)     (None, 1500, 300)         15006900  \n",
            "                                                                 \n",
            " bidirectional_7 (Bidirectio  (None, 1500, 128)        186880    \n",
            " nal)                                                            \n",
            "                                                                 \n",
            " conv1d_7 (Conv1D)           (None, 1500, 32)          20512     \n",
            "                                                                 \n",
            " max_pooling1d_7 (MaxPooling  (None, 500, 32)          0         \n",
            " 1D)                                                             \n",
            "                                                                 \n",
            " flatten_7 (Flatten)         (None, 16000)             0         \n",
            "                                                                 \n",
            " dense_14 (Dense)            (None, 64)                1024064   \n",
            "                                                                 \n",
            " dropout_7 (Dropout)         (None, 64)                0         \n",
            "                                                                 \n",
            " dense_15 (Dense)            (None, 2)                 130       \n",
            "                                                                 \n",
            "=================================================================\n",
            "Total params: 16,238,486\n",
            "Trainable params: 16,238,486\n",
            "Non-trainable params: 0\n",
            "_________________________________________________________________\n",
            "Epoch 1/10\n",
            "657/657 [==============================] - 81s 118ms/step - loss: 0.4688 - accuracy: 0.7612\n",
            "Epoch 2/10\n",
            "657/657 [==============================] - 78s 119ms/step - loss: 0.2250 - accuracy: 0.9127\n",
            "Epoch 3/10\n",
            "657/657 [==============================] - 79s 121ms/step - loss: 0.1134 - accuracy: 0.9571\n",
            "Epoch 4/10\n",
            "657/657 [==============================] - 78s 118ms/step - loss: 0.0624 - accuracy: 0.9777\n",
            "Epoch 5/10\n",
            "657/657 [==============================] - 78s 119ms/step - loss: 0.0378 - accuracy: 0.9856\n",
            "Epoch 6/10\n",
            "657/657 [==============================] - 78s 119ms/step - loss: 0.0230 - accuracy: 0.9901\n",
            "Epoch 7/10\n",
            "657/657 [==============================] - 80s 121ms/step - loss: 0.0163 - accuracy: 0.9939\n",
            "Epoch 8/10\n",
            "657/657 [==============================] - 79s 120ms/step - loss: 0.0144 - accuracy: 0.9956\n",
            "Epoch 9/10\n",
            "657/657 [==============================] - 79s 120ms/step - loss: 0.0146 - accuracy: 0.9952\n",
            "Epoch 10/10\n",
            "657/657 [==============================] - 80s 121ms/step - loss: 0.0086 - accuracy: 0.9971\n",
            "219/219 [==============================] - 16s 69ms/step - loss: 1.3678 - accuracy: 0.8583\n",
            "Model: \"sequential_8\"\n",
            "_________________________________________________________________\n",
            " Layer (type)                Output Shape              Param #   \n",
            "=================================================================\n",
            " embedding_8 (Embedding)     (None, 1500, 300)         15006900  \n",
            "                                                                 \n",
            " bidirectional_8 (Bidirectio  (None, 1500, 128)        186880    \n",
            " nal)                                                            \n",
            "                                                                 \n",
            " conv1d_8 (Conv1D)           (None, 1500, 32)          20512     \n",
            "                                                                 \n",
            " max_pooling1d_8 (MaxPooling  (None, 500, 32)          0         \n",
            " 1D)                                                             \n",
            "                                                                 \n",
            " flatten_8 (Flatten)         (None, 16000)             0         \n",
            "                                                                 \n",
            " dense_16 (Dense)            (None, 64)                1024064   \n",
            "                                                                 \n",
            " dropout_8 (Dropout)         (None, 64)                0         \n",
            "                                                                 \n",
            " dense_17 (Dense)            (None, 2)                 130       \n",
            "                                                                 \n",
            "=================================================================\n",
            "Total params: 16,238,486\n",
            "Trainable params: 16,238,486\n",
            "Non-trainable params: 0\n",
            "_________________________________________________________________\n",
            "Epoch 1/10\n",
            "657/657 [==============================] - 81s 119ms/step - loss: 0.4607 - accuracy: 0.7710\n",
            "Epoch 2/10\n",
            "657/657 [==============================] - 78s 118ms/step - loss: 0.2329 - accuracy: 0.9128\n",
            "Epoch 3/10\n",
            "657/657 [==============================] - 77s 118ms/step - loss: 0.1243 - accuracy: 0.9549\n",
            "Epoch 4/10\n",
            "657/657 [==============================] - 80s 121ms/step - loss: 0.0665 - accuracy: 0.9761\n",
            "Epoch 5/10\n",
            "657/657 [==============================] - 78s 118ms/step - loss: 0.0381 - accuracy: 0.9870\n",
            "Epoch 6/10\n",
            "657/657 [==============================] - 77s 118ms/step - loss: 0.0273 - accuracy: 0.9902\n",
            "Epoch 7/10\n",
            "657/657 [==============================] - 78s 119ms/step - loss: 0.0192 - accuracy: 0.9938\n",
            "Epoch 8/10\n",
            "657/657 [==============================] - 79s 120ms/step - loss: 0.0161 - accuracy: 0.9951\n",
            "Epoch 9/10\n",
            "657/657 [==============================] - 78s 119ms/step - loss: 0.0156 - accuracy: 0.9960\n",
            "Epoch 10/10\n",
            "657/657 [==============================] - 78s 118ms/step - loss: 0.0119 - accuracy: 0.9964\n",
            "219/219 [==============================] - 16s 68ms/step - loss: 1.3541 - accuracy: 0.8640\n",
            "Model: \"sequential_9\"\n",
            "_________________________________________________________________\n",
            " Layer (type)                Output Shape              Param #   \n",
            "=================================================================\n",
            " embedding_9 (Embedding)     (None, 1500, 300)         15006900  \n",
            "                                                                 \n",
            " bidirectional_9 (Bidirectio  (None, 1500, 128)        186880    \n",
            " nal)                                                            \n",
            "                                                                 \n",
            " conv1d_9 (Conv1D)           (None, 1500, 32)          20512     \n",
            "                                                                 \n",
            " max_pooling1d_9 (MaxPooling  (None, 500, 32)          0         \n",
            " 1D)                                                             \n",
            "                                                                 \n",
            " flatten_9 (Flatten)         (None, 16000)             0         \n",
            "                                                                 \n",
            " dense_18 (Dense)            (None, 64)                1024064   \n",
            "                                                                 \n",
            " dropout_9 (Dropout)         (None, 64)                0         \n",
            "                                                                 \n",
            " dense_19 (Dense)            (None, 2)                 130       \n",
            "                                                                 \n",
            "=================================================================\n",
            "Total params: 16,238,486\n",
            "Trainable params: 16,238,486\n",
            "Non-trainable params: 0\n",
            "_________________________________________________________________\n",
            "Epoch 1/10\n",
            "657/657 [==============================] - 82s 120ms/step - loss: 0.5099 - accuracy: 0.7195\n",
            "Epoch 2/10\n",
            "657/657 [==============================] - 78s 118ms/step - loss: 0.2462 - accuracy: 0.9061\n",
            "Epoch 3/10\n",
            "657/657 [==============================] - 77s 118ms/step - loss: 0.1232 - accuracy: 0.9548\n",
            "Epoch 4/10\n",
            "657/657 [==============================] - 78s 118ms/step - loss: 0.0615 - accuracy: 0.9778\n",
            "Epoch 5/10\n",
            "657/657 [==============================] - 79s 120ms/step - loss: 0.0482 - accuracy: 0.9838\n",
            "Epoch 6/10\n",
            "657/657 [==============================] - 78s 118ms/step - loss: 0.0256 - accuracy: 0.9913\n",
            "Epoch 7/10\n",
            "657/657 [==============================] - 78s 118ms/step - loss: 0.0160 - accuracy: 0.9944\n",
            "Epoch 8/10\n",
            "657/657 [==============================] - 79s 120ms/step - loss: 0.0213 - accuracy: 0.9937\n",
            "Epoch 9/10\n",
            "657/657 [==============================] - 78s 118ms/step - loss: 0.0168 - accuracy: 0.9949\n",
            "Epoch 10/10\n",
            "657/657 [==============================] - 74s 113ms/step - loss: 0.0096 - accuracy: 0.9974\n",
            "219/219 [==============================] - 15s 67ms/step - loss: 1.0441 - accuracy: 0.8723\n",
            "Model: \"sequential_10\"\n",
            "_________________________________________________________________\n",
            " Layer (type)                Output Shape              Param #   \n",
            "=================================================================\n",
            " embedding_10 (Embedding)    (None, 1500, 300)         15006900  \n",
            "                                                                 \n",
            " bidirectional_10 (Bidirecti  (None, 1500, 128)        186880    \n",
            " onal)                                                           \n",
            "                                                                 \n",
            " conv1d_10 (Conv1D)          (None, 1500, 32)          20512     \n",
            "                                                                 \n",
            " max_pooling1d_10 (MaxPoolin  (None, 500, 32)          0         \n",
            " g1D)                                                            \n",
            "                                                                 \n",
            " flatten_10 (Flatten)        (None, 16000)             0         \n",
            "                                                                 \n",
            " dense_20 (Dense)            (None, 64)                1024064   \n",
            "                                                                 \n",
            " dropout_10 (Dropout)        (None, 64)                0         \n",
            "                                                                 \n",
            " dense_21 (Dense)            (None, 2)                 130       \n",
            "                                                                 \n",
            "=================================================================\n",
            "Total params: 16,238,486\n",
            "Trainable params: 16,238,486\n",
            "Non-trainable params: 0\n",
            "_________________________________________________________________\n",
            "Epoch 1/10\n",
            "657/657 [==============================] - 80s 117ms/step - loss: 0.4214 - accuracy: 0.7994\n",
            "Epoch 2/10\n",
            "657/657 [==============================] - 80s 121ms/step - loss: 0.2319 - accuracy: 0.9103\n",
            "Epoch 3/10\n",
            "657/657 [==============================] - 79s 120ms/step - loss: 0.1242 - accuracy: 0.9545\n",
            "Epoch 4/10\n",
            "657/657 [==============================] - 79s 120ms/step - loss: 0.0598 - accuracy: 0.9793\n",
            "Epoch 5/10\n",
            "657/657 [==============================] - 80s 122ms/step - loss: 0.0407 - accuracy: 0.9863\n",
            "Epoch 6/10\n",
            "657/657 [==============================] - 79s 121ms/step - loss: 0.0240 - accuracy: 0.9924\n",
            "Epoch 7/10\n",
            "657/657 [==============================] - 80s 121ms/step - loss: 0.0374 - accuracy: 0.9884\n",
            "Epoch 8/10\n",
            "657/657 [==============================] - 80s 122ms/step - loss: 0.0207 - accuracy: 0.9953\n",
            "Epoch 9/10\n",
            "657/657 [==============================] - 81s 123ms/step - loss: 0.0040 - accuracy: 0.9991\n",
            "Epoch 10/10\n",
            "657/657 [==============================] - 79s 121ms/step - loss: 0.0254 - accuracy: 0.9923\n",
            "219/219 [==============================] - 16s 70ms/step - loss: 1.7633 - accuracy: 0.8537\n",
            "Model: \"sequential_11\"\n",
            "_________________________________________________________________\n",
            " Layer (type)                Output Shape              Param #   \n",
            "=================================================================\n",
            " embedding_11 (Embedding)    (None, 1500, 300)         15006900  \n",
            "                                                                 \n",
            " bidirectional_11 (Bidirecti  (None, 1500, 128)        186880    \n",
            " onal)                                                           \n",
            "                                                                 \n",
            " conv1d_11 (Conv1D)          (None, 1500, 32)          20512     \n",
            "                                                                 \n",
            " max_pooling1d_11 (MaxPoolin  (None, 500, 32)          0         \n",
            " g1D)                                                            \n",
            "                                                                 \n",
            " flatten_11 (Flatten)        (None, 16000)             0         \n",
            "                                                                 \n",
            " dense_22 (Dense)            (None, 64)                1024064   \n",
            "                                                                 \n",
            " dropout_11 (Dropout)        (None, 64)                0         \n",
            "                                                                 \n",
            " dense_23 (Dense)            (None, 2)                 130       \n",
            "                                                                 \n",
            "=================================================================\n",
            "Total params: 16,238,486\n",
            "Trainable params: 16,238,486\n",
            "Non-trainable params: 0\n",
            "_________________________________________________________________\n",
            "Epoch 1/10\n",
            "875/875 [==============================] - 110s 121ms/step - loss: 0.4846 - accuracy: 0.7437\n",
            "Epoch 2/10\n",
            "875/875 [==============================] - 110s 125ms/step - loss: 0.2319 - accuracy: 0.9099\n",
            "Epoch 3/10\n",
            "875/875 [==============================] - 110s 126ms/step - loss: 0.1332 - accuracy: 0.9519\n",
            "Epoch 4/10\n",
            "875/875 [==============================] - 111s 127ms/step - loss: 0.0737 - accuracy: 0.9749\n",
            "Epoch 5/10\n",
            "875/875 [==============================] - 109s 124ms/step - loss: 0.0534 - accuracy: 0.9806\n",
            "Epoch 6/10\n",
            "875/875 [==============================] - 111s 126ms/step - loss: 0.0337 - accuracy: 0.9894\n",
            "Epoch 7/10\n",
            "875/875 [==============================] - 110s 126ms/step - loss: 0.0217 - accuracy: 0.9934\n",
            "Epoch 8/10\n",
            "875/875 [==============================] - 111s 127ms/step - loss: 0.0246 - accuracy: 0.9929\n",
            "Epoch 9/10\n",
            "875/875 [==============================] - 109s 124ms/step - loss: 0.0107 - accuracy: 0.9963\n",
            "Epoch 10/10\n",
            "875/875 [==============================] - 108s 124ms/step - loss: 0.0164 - accuracy: 0.9948\n",
            "375/375 [==============================] - 28s 73ms/step - loss: 0.9915 - accuracy: 0.8692\n",
            "best Accuracy:0.8621\n",
            "{'vocab_size': 50023, 'pool_size_num': 3, 'num_label': 2, 'max_len': 1500, 'lstm_size': 64, 'kernel_num': 64, 'embedding_dim': 300, 'dropout_rate': 0.3, 'conkernel_size': 5, 'conkernel_num': 32}\n",
            " test accuracy: 0.8692\n",
            "\n",
            "\n"
          ]
        }
      ],
      "source": [
        "# video_game\n",
        "model = KerasClassifier(build_fn=created_model, epochs=epochs_num, batch_size=16, verbose=True)\n",
        "grid = RandomizedSearchCV(estimator=model, param_distributions=param_grid, cv=4, verbose=1, n_iter=1)  # n_iter=5\n",
        "grid_result = grid.fit(X_train_pad, y_train)\n",
        "#\n",
        "test_accuracy = grid.score(X_test_pad, y_test)\n",
        "\n",
        "with open(param_outputflie, 'a') as f:\n",
        "    s = ('best Accuracy:'\n",
        "         '{:.4f}\\n{}\\n test accuracy: {:.4f}\\n\\n')\n",
        "    output_string = s.format(\n",
        "        grid_result.best_score_,\n",
        "        grid_result.best_params_,\n",
        "        test_accuracy\n",
        "    )\n",
        "    print(output_string)\n",
        "    f.write(output_string)\n"
      ]
    },
    {
      "cell_type": "code",
      "execution_count": 100,
      "metadata": {
        "colab": {
          "base_uri": "https://localhost:8080/"
        },
        "id": "JoLO3nwnYI-i",
        "outputId": "5ccfabb8-9e59-4e64-8771-20ff37f3122e"
      },
      "outputs": [
        {
          "output_type": "stream",
          "name": "stderr",
          "text": [
            "<ipython-input-100-906c44baa52f>:1: DeprecationWarning: KerasClassifier is deprecated, use Sci-Keras (https://github.com/adriangb/scikeras) instead. See https://www.adriangb.com/scikeras/stable/migration.html for help migrating.\n",
            "  model = KerasClassifier(build_fn=created_model, epochs=epochs_num, batch_size=16, verbose=True)\n"
          ]
        },
        {
          "output_type": "stream",
          "name": "stdout",
          "text": [
            "Fitting 4 folds for each of 1 candidates, totalling 4 fits\n",
            "Model: \"sequential_5\"\n",
            "_________________________________________________________________\n",
            " Layer (type)                Output Shape              Param #   \n",
            "=================================================================\n",
            " embedding_6 (Embedding)     (None, 1500, 300)         11057100  \n",
            "                                                                 \n",
            " bidirectional_5 (Bidirectio  (None, 1500, 128)        186880    \n",
            " nal)                                                            \n",
            "                                                                 \n",
            " conv1d_5 (Conv1D)           (None, 1500, 32)          12320     \n",
            "                                                                 \n",
            " max_pooling1d_5 (MaxPooling  (None, 500, 32)          0         \n",
            " 1D)                                                             \n",
            "                                                                 \n",
            " flatten_6 (Flatten)         (None, 16000)             0         \n",
            "                                                                 \n",
            " dense_12 (Dense)            (None, 64)                1024064   \n",
            "                                                                 \n",
            " dropout_6 (Dropout)         (None, 64)                0         \n",
            "                                                                 \n",
            " dense_13 (Dense)            (None, 2)                 130       \n",
            "                                                                 \n",
            "=================================================================\n",
            "Total params: 12,280,494\n",
            "Trainable params: 12,280,494\n",
            "Non-trainable params: 0\n",
            "_________________________________________________________________\n",
            "Epoch 1/10\n",
            "657/657 [==============================] - 76s 108ms/step - loss: 0.3476 - accuracy: 0.8428\n",
            "Epoch 2/10\n",
            "657/657 [==============================] - 70s 106ms/step - loss: 0.1564 - accuracy: 0.9444\n",
            "Epoch 3/10\n",
            "657/657 [==============================] - 70s 107ms/step - loss: 0.0913 - accuracy: 0.9687\n",
            "Epoch 4/10\n",
            "657/657 [==============================] - 70s 107ms/step - loss: 0.0445 - accuracy: 0.9841\n",
            "Epoch 5/10\n",
            "657/657 [==============================] - 70s 107ms/step - loss: 0.0291 - accuracy: 0.9924\n",
            "Epoch 6/10\n",
            "657/657 [==============================] - 79s 121ms/step - loss: 0.0253 - accuracy: 0.9918\n",
            "Epoch 7/10\n",
            "657/657 [==============================] - 78s 119ms/step - loss: 0.0179 - accuracy: 0.9947\n",
            "Epoch 8/10\n",
            "657/657 [==============================] - 80s 121ms/step - loss: 0.0073 - accuracy: 0.9973\n",
            "Epoch 9/10\n",
            "657/657 [==============================] - 81s 123ms/step - loss: 0.0102 - accuracy: 0.9968\n",
            "Epoch 10/10\n",
            "657/657 [==============================] - 71s 108ms/step - loss: 0.0041 - accuracy: 0.9986\n",
            "219/219 [==============================] - 14s 62ms/step - loss: 1.2869 - accuracy: 0.9020\n",
            "Model: \"sequential_6\"\n",
            "_________________________________________________________________\n",
            " Layer (type)                Output Shape              Param #   \n",
            "=================================================================\n",
            " embedding_7 (Embedding)     (None, 1500, 300)         11057100  \n",
            "                                                                 \n",
            " bidirectional_6 (Bidirectio  (None, 1500, 128)        186880    \n",
            " nal)                                                            \n",
            "                                                                 \n",
            " conv1d_6 (Conv1D)           (None, 1500, 32)          12320     \n",
            "                                                                 \n",
            " max_pooling1d_6 (MaxPooling  (None, 500, 32)          0         \n",
            " 1D)                                                             \n",
            "                                                                 \n",
            " flatten_7 (Flatten)         (None, 16000)             0         \n",
            "                                                                 \n",
            " dense_14 (Dense)            (None, 64)                1024064   \n",
            "                                                                 \n",
            " dropout_7 (Dropout)         (None, 64)                0         \n",
            "                                                                 \n",
            " dense_15 (Dense)            (None, 2)                 130       \n",
            "                                                                 \n",
            "=================================================================\n",
            "Total params: 12,280,494\n",
            "Trainable params: 12,280,494\n",
            "Non-trainable params: 0\n",
            "_________________________________________________________________\n",
            "Epoch 1/10\n",
            "657/657 [==============================] - 74s 108ms/step - loss: 0.3641 - accuracy: 0.8297\n",
            "Epoch 2/10\n",
            "657/657 [==============================] - 73s 111ms/step - loss: 0.1514 - accuracy: 0.9430\n",
            "Epoch 3/10\n",
            "657/657 [==============================] - 70s 107ms/step - loss: 0.0802 - accuracy: 0.9746\n",
            "Epoch 4/10\n",
            "657/657 [==============================] - 69s 106ms/step - loss: 0.0506 - accuracy: 0.9830\n",
            "Epoch 5/10\n",
            "657/657 [==============================] - 71s 109ms/step - loss: 0.0316 - accuracy: 0.9893\n",
            "Epoch 6/10\n",
            "657/657 [==============================] - 70s 107ms/step - loss: 0.0240 - accuracy: 0.9924\n",
            "Epoch 7/10\n",
            "657/657 [==============================] - 71s 109ms/step - loss: 0.0180 - accuracy: 0.9949\n",
            "Epoch 8/10\n",
            "657/657 [==============================] - 70s 106ms/step - loss: 0.0151 - accuracy: 0.9944\n",
            "Epoch 9/10\n",
            "657/657 [==============================] - 70s 106ms/step - loss: 0.0078 - accuracy: 0.9982\n",
            "Epoch 10/10\n",
            "657/657 [==============================] - 71s 109ms/step - loss: 0.0074 - accuracy: 0.9974\n",
            "219/219 [==============================] - 13s 56ms/step - loss: 0.8150 - accuracy: 0.9020\n",
            "Model: \"sequential_7\"\n",
            "_________________________________________________________________\n",
            " Layer (type)                Output Shape              Param #   \n",
            "=================================================================\n",
            " embedding_8 (Embedding)     (None, 1500, 300)         11057100  \n",
            "                                                                 \n",
            " bidirectional_7 (Bidirectio  (None, 1500, 128)        186880    \n",
            " nal)                                                            \n",
            "                                                                 \n",
            " conv1d_7 (Conv1D)           (None, 1500, 32)          12320     \n",
            "                                                                 \n",
            " max_pooling1d_7 (MaxPooling  (None, 500, 32)          0         \n",
            " 1D)                                                             \n",
            "                                                                 \n",
            " flatten_8 (Flatten)         (None, 16000)             0         \n",
            "                                                                 \n",
            " dense_16 (Dense)            (None, 64)                1024064   \n",
            "                                                                 \n",
            " dropout_8 (Dropout)         (None, 64)                0         \n",
            "                                                                 \n",
            " dense_17 (Dense)            (None, 2)                 130       \n",
            "                                                                 \n",
            "=================================================================\n",
            "Total params: 12,280,494\n",
            "Trainable params: 12,280,494\n",
            "Non-trainable params: 0\n",
            "_________________________________________________________________\n",
            "Epoch 1/10\n",
            "657/657 [==============================] - 73s 106ms/step - loss: 0.3379 - accuracy: 0.8498\n",
            "Epoch 2/10\n",
            "657/657 [==============================] - 71s 109ms/step - loss: 0.1519 - accuracy: 0.9481\n",
            "Epoch 3/10\n",
            "657/657 [==============================] - 69s 106ms/step - loss: 0.0902 - accuracy: 0.9692\n",
            "Epoch 4/10\n",
            "657/657 [==============================] - 70s 107ms/step - loss: 0.0523 - accuracy: 0.9831\n",
            "Epoch 5/10\n",
            "657/657 [==============================] - 70s 107ms/step - loss: 0.0314 - accuracy: 0.9909\n",
            "Epoch 6/10\n",
            "657/657 [==============================] - 69s 106ms/step - loss: 0.0201 - accuracy: 0.9938\n",
            "Epoch 7/10\n",
            "657/657 [==============================] - 72s 109ms/step - loss: 0.0170 - accuracy: 0.9950\n",
            "Epoch 8/10\n",
            "657/657 [==============================] - 70s 106ms/step - loss: 0.0119 - accuracy: 0.9960\n",
            "Epoch 9/10\n",
            "657/657 [==============================] - 69s 105ms/step - loss: 0.0071 - accuracy: 0.9983\n",
            "Epoch 10/10\n",
            "657/657 [==============================] - 71s 109ms/step - loss: 0.0094 - accuracy: 0.9972\n",
            "219/219 [==============================] - 13s 55ms/step - loss: 0.9440 - accuracy: 0.9057\n",
            "Model: \"sequential_8\"\n",
            "_________________________________________________________________\n",
            " Layer (type)                Output Shape              Param #   \n",
            "=================================================================\n",
            " embedding_9 (Embedding)     (None, 1500, 300)         11057100  \n",
            "                                                                 \n",
            " bidirectional_8 (Bidirectio  (None, 1500, 128)        186880    \n",
            " nal)                                                            \n",
            "                                                                 \n",
            " conv1d_8 (Conv1D)           (None, 1500, 32)          12320     \n",
            "                                                                 \n",
            " max_pooling1d_8 (MaxPooling  (None, 500, 32)          0         \n",
            " 1D)                                                             \n",
            "                                                                 \n",
            " flatten_9 (Flatten)         (None, 16000)             0         \n",
            "                                                                 \n",
            " dense_18 (Dense)            (None, 64)                1024064   \n",
            "                                                                 \n",
            " dropout_9 (Dropout)         (None, 64)                0         \n",
            "                                                                 \n",
            " dense_19 (Dense)            (None, 2)                 130       \n",
            "                                                                 \n",
            "=================================================================\n",
            "Total params: 12,280,494\n",
            "Trainable params: 12,280,494\n",
            "Non-trainable params: 0\n",
            "_________________________________________________________________\n",
            "Epoch 1/10\n",
            "657/657 [==============================] - 73s 107ms/step - loss: 0.3289 - accuracy: 0.8524\n",
            "Epoch 2/10\n",
            "657/657 [==============================] - 71s 109ms/step - loss: 0.1470 - accuracy: 0.9483\n",
            "Epoch 3/10\n",
            "657/657 [==============================] - 69s 106ms/step - loss: 0.0791 - accuracy: 0.9730\n",
            "Epoch 4/10\n",
            "657/657 [==============================] - 69s 105ms/step - loss: 0.0418 - accuracy: 0.9872\n",
            "Epoch 5/10\n",
            "657/657 [==============================] - 72s 109ms/step - loss: 0.0270 - accuracy: 0.9911\n",
            "Epoch 6/10\n",
            "657/657 [==============================] - 69s 105ms/step - loss: 0.0243 - accuracy: 0.9937\n",
            "Epoch 7/10\n",
            "657/657 [==============================] - 70s 106ms/step - loss: 0.0125 - accuracy: 0.9954\n",
            "Epoch 8/10\n",
            "657/657 [==============================] - 71s 108ms/step - loss: 0.0172 - accuracy: 0.9952\n",
            "Epoch 9/10\n",
            "657/657 [==============================] - 70s 107ms/step - loss: 0.0099 - accuracy: 0.9967\n",
            "Epoch 10/10\n",
            "657/657 [==============================] - 71s 108ms/step - loss: 0.0084 - accuracy: 0.9978\n",
            "219/219 [==============================] - 14s 59ms/step - loss: 0.7742 - accuracy: 0.9111\n",
            "Model: \"sequential_9\"\n",
            "_________________________________________________________________\n",
            " Layer (type)                Output Shape              Param #   \n",
            "=================================================================\n",
            " embedding_10 (Embedding)    (None, 1500, 300)         11057100  \n",
            "                                                                 \n",
            " bidirectional_9 (Bidirectio  (None, 1500, 128)        186880    \n",
            " nal)                                                            \n",
            "                                                                 \n",
            " conv1d_9 (Conv1D)           (None, 1500, 32)          12320     \n",
            "                                                                 \n",
            " max_pooling1d_9 (MaxPooling  (None, 500, 32)          0         \n",
            " 1D)                                                             \n",
            "                                                                 \n",
            " flatten_10 (Flatten)        (None, 16000)             0         \n",
            "                                                                 \n",
            " dense_20 (Dense)            (None, 64)                1024064   \n",
            "                                                                 \n",
            " dropout_10 (Dropout)        (None, 64)                0         \n",
            "                                                                 \n",
            " dense_21 (Dense)            (None, 2)                 130       \n",
            "                                                                 \n",
            "=================================================================\n",
            "Total params: 12,280,494\n",
            "Trainable params: 12,280,494\n",
            "Non-trainable params: 0\n",
            "_________________________________________________________________\n",
            "Epoch 1/10\n",
            "875/875 [==============================] - 95s 106ms/step - loss: 0.3092 - accuracy: 0.8641\n",
            "Epoch 2/10\n",
            "875/875 [==============================] - 94s 108ms/step - loss: 0.1418 - accuracy: 0.9487\n",
            "Epoch 3/10\n",
            "875/875 [==============================] - 92s 105ms/step - loss: 0.0810 - accuracy: 0.9738\n",
            "Epoch 4/10\n",
            "875/875 [==============================] - 94s 107ms/step - loss: 0.0464 - accuracy: 0.9846\n",
            "Epoch 5/10\n",
            "875/875 [==============================] - 93s 106ms/step - loss: 0.0322 - accuracy: 0.9897\n",
            "Epoch 6/10\n",
            "875/875 [==============================] - 93s 107ms/step - loss: 0.0186 - accuracy: 0.9934\n",
            "Epoch 7/10\n",
            "875/875 [==============================] - 92s 105ms/step - loss: 0.0206 - accuracy: 0.9929\n",
            "Epoch 8/10\n",
            "875/875 [==============================] - 92s 105ms/step - loss: 0.0208 - accuracy: 0.9944\n",
            "Epoch 9/10\n",
            "875/875 [==============================] - 94s 107ms/step - loss: 0.0050 - accuracy: 0.9985\n",
            "Epoch 10/10\n",
            "875/875 [==============================] - 92s 106ms/step - loss: 0.0061 - accuracy: 0.9982\n",
            "375/375 [==============================] - 22s 56ms/step - loss: 0.8288 - accuracy: 0.9102\n",
            "best Accuracy:0.9052\n",
            "{'vocab_size': 36857, 'pool_size_num': 3, 'num_label': 2, 'max_len': 1500, 'lstm_size': 64, 'kernel_num': 64, 'embedding_dim': 300, 'dropout_rate': 0.3, 'conkernel_size': 3, 'conkernel_num': 32}\n",
            " test accuracy: 0.9102\n",
            "\n",
            "\n"
          ]
        }
      ],
      "source": [
        "# kindle\n",
        "model = KerasClassifier(build_fn=created_model, epochs=epochs_num, batch_size=16, verbose=True)\n",
        "grid = RandomizedSearchCV(estimator=model, param_distributions=param_grid, cv=4, verbose=1, n_iter=1)  # n_iter=5\n",
        "grid_result = grid.fit(X_train_pad, y_train)\n",
        "#\n",
        "test_accuracy = grid.score(X_test_pad, y_test)\n",
        "\n",
        "with open(param_outputflie, 'a') as f:\n",
        "    s = ('best Accuracy:'\n",
        "         '{:.4f}\\n{}\\n test accuracy: {:.4f}\\n\\n')\n",
        "    output_string = s.format(\n",
        "        grid_result.best_score_,\n",
        "        grid_result.best_params_,\n",
        "        test_accuracy\n",
        "    )\n",
        "    print(output_string)\n",
        "    f.write(output_string)\n"
      ]
    },
    {
      "cell_type": "code",
      "source": [],
      "metadata": {
        "id": "4XxdxZT4UxEX"
      },
      "execution_count": null,
      "outputs": []
    },
    {
      "cell_type": "code",
      "execution_count": 61,
      "metadata": {
        "colab": {
          "base_uri": "https://localhost:8080/"
        },
        "outputId": "3667247d-6a52-494c-fe19-1cb37ba24cfc",
        "id": "mPPtkjwKUxZY"
      },
      "outputs": [
        {
          "output_type": "stream",
          "name": "stderr",
          "text": [
            "<ipython-input-61-b0c076adee86>:2: DeprecationWarning: KerasClassifier is deprecated, use Sci-Keras (https://github.com/adriangb/scikeras) instead. See https://www.adriangb.com/scikeras/stable/migration.html for help migrating.\n",
            "  model = KerasClassifier(build_fn=created_model, epochs=epochs_num, batch_size=16, verbose=True)\n"
          ]
        },
        {
          "output_type": "stream",
          "name": "stdout",
          "text": [
            "Fitting 4 folds for each of 1 candidates, totalling 4 fits\n",
            "Model: \"sequential_2\"\n",
            "_________________________________________________________________\n",
            " Layer (type)                Output Shape              Param #   \n",
            "=================================================================\n",
            " embedding_2 (Embedding)     (None, 1500, 300)         9051600   \n",
            "                                                                 \n",
            " bidirectional_2 (Bidirectio  (None, 1500, 128)        186880    \n",
            " nal)                                                            \n",
            "                                                                 \n",
            " conv1d_2 (Conv1D)           (None, 1500, 32)          12320     \n",
            "                                                                 \n",
            " max_pooling1d_2 (MaxPooling  (None, 500, 32)          0         \n",
            " 1D)                                                             \n",
            "                                                                 \n",
            " flatten_2 (Flatten)         (None, 16000)             0         \n",
            "                                                                 \n",
            " dense_4 (Dense)             (None, 64)                1024064   \n",
            "                                                                 \n",
            " dropout_2 (Dropout)         (None, 64)                0         \n",
            "                                                                 \n",
            " dense_5 (Dense)             (None, 2)                 130       \n",
            "                                                                 \n",
            "=================================================================\n",
            "Total params: 10,274,994\n",
            "Trainable params: 10,274,994\n",
            "Non-trainable params: 0\n",
            "_________________________________________________________________\n",
            "Epoch 1/10\n",
            "657/657 [==============================] - 75s 109ms/step - loss: 0.5998 - accuracy: 0.6337\n",
            "Epoch 2/10\n",
            "657/657 [==============================] - 74s 113ms/step - loss: 0.3062 - accuracy: 0.8744\n",
            "Epoch 3/10\n",
            "657/657 [==============================] - 73s 111ms/step - loss: 0.1626 - accuracy: 0.9384\n",
            "Epoch 4/10\n",
            "657/657 [==============================] - 73s 112ms/step - loss: 0.0744 - accuracy: 0.9740\n",
            "Epoch 5/10\n",
            "657/657 [==============================] - 75s 114ms/step - loss: 0.0367 - accuracy: 0.9885\n",
            "Epoch 6/10\n",
            "657/657 [==============================] - 74s 112ms/step - loss: 0.0283 - accuracy: 0.9916\n",
            "Epoch 7/10\n",
            "657/657 [==============================] - 73s 112ms/step - loss: 0.0240 - accuracy: 0.9919\n",
            "Epoch 8/10\n",
            "657/657 [==============================] - 75s 114ms/step - loss: 0.0145 - accuracy: 0.9949\n",
            "Epoch 9/10\n",
            "657/657 [==============================] - 74s 113ms/step - loss: 0.0116 - accuracy: 0.9968\n",
            "Epoch 10/10\n",
            "657/657 [==============================] - 74s 112ms/step - loss: 0.0078 - accuracy: 0.9976\n",
            "219/219 [==============================] - 15s 67ms/step - loss: 1.3917 - accuracy: 0.8420\n",
            "Model: \"sequential_3\"\n",
            "_________________________________________________________________\n",
            " Layer (type)                Output Shape              Param #   \n",
            "=================================================================\n",
            " embedding_3 (Embedding)     (None, 1500, 300)         9051600   \n",
            "                                                                 \n",
            " bidirectional_3 (Bidirectio  (None, 1500, 128)        186880    \n",
            " nal)                                                            \n",
            "                                                                 \n",
            " conv1d_3 (Conv1D)           (None, 1500, 32)          12320     \n",
            "                                                                 \n",
            " max_pooling1d_3 (MaxPooling  (None, 500, 32)          0         \n",
            " 1D)                                                             \n",
            "                                                                 \n",
            " flatten_3 (Flatten)         (None, 16000)             0         \n",
            "                                                                 \n",
            " dense_6 (Dense)             (None, 64)                1024064   \n",
            "                                                                 \n",
            " dropout_3 (Dropout)         (None, 64)                0         \n",
            "                                                                 \n",
            " dense_7 (Dense)             (None, 2)                 130       \n",
            "                                                                 \n",
            "=================================================================\n",
            "Total params: 10,274,994\n",
            "Trainable params: 10,274,994\n",
            "Non-trainable params: 0\n",
            "_________________________________________________________________\n",
            "Epoch 1/10\n",
            "657/657 [==============================] - 81s 119ms/step - loss: 0.6003 - accuracy: 0.6390\n",
            "Epoch 2/10\n",
            "657/657 [==============================] - 76s 116ms/step - loss: 0.3070 - accuracy: 0.8712\n",
            "Epoch 3/10\n",
            "657/657 [==============================] - 78s 118ms/step - loss: 0.1746 - accuracy: 0.9334\n",
            "Epoch 4/10\n",
            "657/657 [==============================] - 76s 116ms/step - loss: 0.0772 - accuracy: 0.9735\n",
            "Epoch 5/10\n",
            "657/657 [==============================] - 76s 115ms/step - loss: 0.0392 - accuracy: 0.9859\n",
            "Epoch 6/10\n",
            "657/657 [==============================] - 78s 119ms/step - loss: 0.0172 - accuracy: 0.9943\n",
            "Epoch 7/10\n",
            "657/657 [==============================] - 76s 116ms/step - loss: 0.0113 - accuracy: 0.9966\n",
            "Epoch 8/10\n",
            "657/657 [==============================] - 76s 116ms/step - loss: 0.0253 - accuracy: 0.9944\n",
            "Epoch 9/10\n",
            "657/657 [==============================] - 78s 118ms/step - loss: 0.0154 - accuracy: 0.9963\n",
            "Epoch 10/10\n",
            "657/657 [==============================] - 77s 117ms/step - loss: 0.0105 - accuracy: 0.9960\n",
            "219/219 [==============================] - 24s 69ms/step - loss: 1.4459 - accuracy: 0.8437\n",
            "Model: \"sequential_4\"\n",
            "_________________________________________________________________\n",
            " Layer (type)                Output Shape              Param #   \n",
            "=================================================================\n",
            " embedding_4 (Embedding)     (None, 1500, 300)         9051600   \n",
            "                                                                 \n",
            " bidirectional_4 (Bidirectio  (None, 1500, 128)        186880    \n",
            " nal)                                                            \n",
            "                                                                 \n",
            " conv1d_4 (Conv1D)           (None, 1500, 32)          12320     \n",
            "                                                                 \n",
            " max_pooling1d_4 (MaxPooling  (None, 500, 32)          0         \n",
            " 1D)                                                             \n",
            "                                                                 \n",
            " flatten_4 (Flatten)         (None, 16000)             0         \n",
            "                                                                 \n",
            " dense_8 (Dense)             (None, 64)                1024064   \n",
            "                                                                 \n",
            " dropout_4 (Dropout)         (None, 64)                0         \n",
            "                                                                 \n",
            " dense_9 (Dense)             (None, 2)                 130       \n",
            "                                                                 \n",
            "=================================================================\n",
            "Total params: 10,274,994\n",
            "Trainable params: 10,274,994\n",
            "Non-trainable params: 0\n",
            "_________________________________________________________________\n",
            "Epoch 1/10\n",
            "657/657 [==============================] - 81s 119ms/step - loss: 0.5012 - accuracy: 0.7462\n",
            "Epoch 2/10\n",
            "657/657 [==============================] - 77s 117ms/step - loss: 0.2624 - accuracy: 0.8923\n",
            "Epoch 3/10\n",
            "657/657 [==============================] - 78s 118ms/step - loss: 0.1366 - accuracy: 0.9511\n",
            "Epoch 4/10\n",
            "657/657 [==============================] - 79s 120ms/step - loss: 0.0605 - accuracy: 0.9794\n",
            "Epoch 5/10\n",
            "657/657 [==============================] - 78s 119ms/step - loss: 0.0338 - accuracy: 0.9874\n",
            "Epoch 6/10\n",
            "657/657 [==============================] - 77s 117ms/step - loss: 0.0265 - accuracy: 0.9913\n",
            "Epoch 7/10\n",
            "657/657 [==============================] - 78s 118ms/step - loss: 0.0150 - accuracy: 0.9950\n",
            "Epoch 8/10\n",
            "657/657 [==============================] - 77s 117ms/step - loss: 0.0192 - accuracy: 0.9950\n",
            "Epoch 9/10\n",
            "657/657 [==============================] - 76s 116ms/step - loss: 0.0160 - accuracy: 0.9946\n",
            "Epoch 10/10\n",
            "657/657 [==============================] - 78s 118ms/step - loss: 0.0116 - accuracy: 0.9970\n",
            "219/219 [==============================] - 16s 69ms/step - loss: 1.2406 - accuracy: 0.8446\n",
            "Model: \"sequential_5\"\n",
            "_________________________________________________________________\n",
            " Layer (type)                Output Shape              Param #   \n",
            "=================================================================\n",
            " embedding_5 (Embedding)     (None, 1500, 300)         9051600   \n",
            "                                                                 \n",
            " bidirectional_5 (Bidirectio  (None, 1500, 128)        186880    \n",
            " nal)                                                            \n",
            "                                                                 \n",
            " conv1d_5 (Conv1D)           (None, 1500, 32)          12320     \n",
            "                                                                 \n",
            " max_pooling1d_5 (MaxPooling  (None, 500, 32)          0         \n",
            " 1D)                                                             \n",
            "                                                                 \n",
            " flatten_5 (Flatten)         (None, 16000)             0         \n",
            "                                                                 \n",
            " dense_10 (Dense)            (None, 64)                1024064   \n",
            "                                                                 \n",
            " dropout_5 (Dropout)         (None, 64)                0         \n",
            "                                                                 \n",
            " dense_11 (Dense)            (None, 2)                 130       \n",
            "                                                                 \n",
            "=================================================================\n",
            "Total params: 10,274,994\n",
            "Trainable params: 10,274,994\n",
            "Non-trainable params: 0\n",
            "_________________________________________________________________\n",
            "Epoch 1/10\n",
            "657/657 [==============================] - 80s 117ms/step - loss: 0.5077 - accuracy: 0.7327\n",
            "Epoch 2/10\n",
            "657/657 [==============================] - 76s 116ms/step - loss: 0.2677 - accuracy: 0.8918\n",
            "Epoch 3/10\n",
            "657/657 [==============================] - 78s 118ms/step - loss: 0.1377 - accuracy: 0.9468\n",
            "Epoch 4/10\n",
            "657/657 [==============================] - 76s 116ms/step - loss: 0.0684 - accuracy: 0.9756\n",
            "Epoch 5/10\n",
            "657/657 [==============================] - 77s 117ms/step - loss: 0.0372 - accuracy: 0.9884\n",
            "Epoch 6/10\n",
            "657/657 [==============================] - 78s 118ms/step - loss: 0.0256 - accuracy: 0.9915\n",
            "Epoch 7/10\n",
            "657/657 [==============================] - 77s 117ms/step - loss: 0.0251 - accuracy: 0.9911\n",
            "Epoch 8/10\n",
            "657/657 [==============================] - 76s 116ms/step - loss: 0.0189 - accuracy: 0.9939\n",
            "Epoch 9/10\n",
            "657/657 [==============================] - 78s 118ms/step - loss: 0.0226 - accuracy: 0.9930\n",
            "Epoch 10/10\n",
            "657/657 [==============================] - 76s 116ms/step - loss: 0.0115 - accuracy: 0.9965\n",
            "219/219 [==============================] - 16s 69ms/step - loss: 1.6886 - accuracy: 0.8414\n",
            "Model: \"sequential_6\"\n",
            "_________________________________________________________________\n",
            " Layer (type)                Output Shape              Param #   \n",
            "=================================================================\n",
            " embedding_6 (Embedding)     (None, 1500, 300)         9051600   \n",
            "                                                                 \n",
            " bidirectional_6 (Bidirectio  (None, 1500, 128)        186880    \n",
            " nal)                                                            \n",
            "                                                                 \n",
            " conv1d_6 (Conv1D)           (None, 1500, 32)          12320     \n",
            "                                                                 \n",
            " max_pooling1d_6 (MaxPooling  (None, 500, 32)          0         \n",
            " 1D)                                                             \n",
            "                                                                 \n",
            " flatten_6 (Flatten)         (None, 16000)             0         \n",
            "                                                                 \n",
            " dense_12 (Dense)            (None, 64)                1024064   \n",
            "                                                                 \n",
            " dropout_6 (Dropout)         (None, 64)                0         \n",
            "                                                                 \n",
            " dense_13 (Dense)            (None, 2)                 130       \n",
            "                                                                 \n",
            "=================================================================\n",
            "Total params: 10,274,994\n",
            "Trainable params: 10,274,994\n",
            "Non-trainable params: 0\n",
            "_________________________________________________________________\n",
            "Epoch 1/10\n",
            "875/875 [==============================] - 105s 117ms/step - loss: 0.4705 - accuracy: 0.7584\n",
            "Epoch 2/10\n",
            "875/875 [==============================] - 101s 115ms/step - loss: 0.2437 - accuracy: 0.9035\n",
            "Epoch 3/10\n",
            "875/875 [==============================] - 101s 115ms/step - loss: 0.1307 - accuracy: 0.9539\n",
            "Epoch 4/10\n",
            "875/875 [==============================] - 102s 117ms/step - loss: 0.0616 - accuracy: 0.9788\n",
            "Epoch 5/10\n",
            "875/875 [==============================] - 101s 115ms/step - loss: 0.0313 - accuracy: 0.9886\n",
            "Epoch 6/10\n",
            "875/875 [==============================] - 100s 115ms/step - loss: 0.0265 - accuracy: 0.9909\n",
            "Epoch 7/10\n",
            "875/875 [==============================] - 102s 117ms/step - loss: 0.0175 - accuracy: 0.9940\n",
            "Epoch 8/10\n",
            "875/875 [==============================] - 101s 115ms/step - loss: 0.0123 - accuracy: 0.9955\n",
            "Epoch 9/10\n",
            "875/875 [==============================] - 101s 115ms/step - loss: 0.0133 - accuracy: 0.9961\n",
            "Epoch 10/10\n",
            "875/875 [==============================] - 102s 116ms/step - loss: 0.0086 - accuracy: 0.9971\n",
            "375/375 [==============================] - 27s 69ms/step - loss: 1.0108 - accuracy: 0.8520\n",
            "best Accuracy:0.8429\n",
            "{'vocab_size': 30172, 'pool_size_num': 3, 'num_label': 2, 'max_len': 1500, 'lstm_size': 64, 'kernel_num': 64, 'embedding_dim': 300, 'dropout_rate': 0.3, 'conkernel_size': 3, 'conkernel_num': 32}\n",
            " test accuracy: 0.8520\n",
            "\n",
            "\n"
          ]
        }
      ],
      "source": [
        "# health\n",
        "model = KerasClassifier(build_fn=created_model, epochs=epochs_num, batch_size=16, verbose=True)\n",
        "grid = RandomizedSearchCV(estimator=model, param_distributions=param_grid, cv=4, verbose=1, n_iter=1)  # n_iter=5\n",
        "grid_result = grid.fit(X_train_pad, y_train)\n",
        "#\n",
        "test_accuracy = grid.score(X_test_pad, y_test)\n",
        "\n",
        "with open(param_outputflie, 'a') as f:\n",
        "    s = ('best Accuracy:'\n",
        "         '{:.4f}\\n{}\\n test accuracy: {:.4f}\\n\\n')\n",
        "    output_string = s.format(\n",
        "        grid_result.best_score_,\n",
        "        grid_result.best_params_,\n",
        "        test_accuracy\n",
        "    )\n",
        "    print(output_string)\n",
        "    f.write(output_string)\n"
      ]
    },
    {
      "cell_type": "code",
      "source": [
        "vocab_size = max_vocabulary+1\n",
        "model1=created_model(lstm_size, vocab_size, embedding_dim, max_len,conkernel_num, conkernel_size,pool_size_num ,dropout_rate,kernel_num,num_label)"
      ],
      "metadata": {
        "colab": {
          "base_uri": "https://localhost:8080/"
        },
        "id": "Joy_VEeu1zcA",
        "outputId": "63703dae-d05e-4574-a8ce-ebcad2b0e831"
      },
      "execution_count": 52,
      "outputs": [
        {
          "output_type": "stream",
          "name": "stdout",
          "text": [
            "Model: \"sequential_5\"\n",
            "_________________________________________________________________\n",
            " Layer (type)                Output Shape              Param #   \n",
            "=================================================================\n",
            " embedding_6 (Embedding)     (None, 1500, 300)         14451000  \n",
            "                                                                 \n",
            " bidirectional_6 (Bidirectio  (None, 1500, 128)        186880    \n",
            " nal)                                                            \n",
            "                                                                 \n",
            " conv1d_5 (Conv1D)           (None, 1500, 32)          20512     \n",
            "                                                                 \n",
            " max_pooling1d_5 (MaxPooling  (None, 500, 32)          0         \n",
            " 1D)                                                             \n",
            "                                                                 \n",
            " flatten_6 (Flatten)         (None, 16000)             0         \n",
            "                                                                 \n",
            " dense_12 (Dense)            (None, 64)                1024064   \n",
            "                                                                 \n",
            " dropout_6 (Dropout)         (None, 64)                0         \n",
            "                                                                 \n",
            " dense_13 (Dense)            (None, 2)                 130       \n",
            "                                                                 \n",
            "=================================================================\n",
            "Total params: 15,682,586\n",
            "Trainable params: 15,682,586\n",
            "Non-trainable params: 0\n",
            "_________________________________________________________________\n"
          ]
        }
      ]
    },
    {
      "cell_type": "code",
      "source": [
        "model1.compile(loss='categorical_crossentropy',\n",
        "              optimizer=Adam(0.001),\n",
        "              metrics=['acc'])\n",
        "#epochs=10\n",
        "history=model1.fit(X_train, np_utils.to_categorical(Y_train), \n",
        "                  validation_data=(X_test, np_utils.to_categorical(Y_test)), \n",
        "                  epochs=epochs, batch_size=256)"
      ],
      "metadata": {
        "colab": {
          "base_uri": "https://localhost:8080/"
        },
        "id": "2s3a8KGy1pxS",
        "outputId": "bcba1b78-3320-4f11-f72e-25619bc9bd43"
      },
      "execution_count": 58,
      "outputs": [
        {
          "output_type": "stream",
          "name": "stdout",
          "text": [
            "Epoch 1/10\n",
            "55/55 [==============================] - 25s 386ms/step - loss: 0.5745 - acc: 0.6932 - val_loss: 0.4492 - val_acc: 0.7968\n",
            "Epoch 2/10\n",
            "55/55 [==============================] - 21s 376ms/step - loss: 0.3686 - acc: 0.8410 - val_loss: 0.3707 - val_acc: 0.8307\n",
            "Epoch 3/10\n",
            "55/55 [==============================] - 21s 376ms/step - loss: 0.2609 - acc: 0.8903 - val_loss: 0.3722 - val_acc: 0.8475\n",
            "Epoch 4/10\n",
            "55/55 [==============================] - 21s 385ms/step - loss: 0.1980 - acc: 0.9242 - val_loss: 0.3619 - val_acc: 0.8480\n",
            "Epoch 5/10\n",
            "55/55 [==============================] - 20s 370ms/step - loss: 0.1422 - acc: 0.9476 - val_loss: 0.4442 - val_acc: 0.8435\n",
            "Epoch 6/10\n",
            "55/55 [==============================] - 20s 369ms/step - loss: 0.0996 - acc: 0.9656 - val_loss: 0.5404 - val_acc: 0.8435\n",
            "Epoch 7/10\n",
            "55/55 [==============================] - 20s 371ms/step - loss: 0.0703 - acc: 0.9758 - val_loss: 0.7401 - val_acc: 0.8370\n",
            "Epoch 8/10\n",
            "55/55 [==============================] - 20s 370ms/step - loss: 0.0511 - acc: 0.9831 - val_loss: 0.6785 - val_acc: 0.8408\n",
            "Epoch 9/10\n",
            "55/55 [==============================] - 21s 387ms/step - loss: 0.0287 - acc: 0.9905 - val_loss: 0.8196 - val_acc: 0.8387\n",
            "Epoch 10/10\n",
            "55/55 [==============================] - 20s 368ms/step - loss: 0.0249 - acc: 0.9909 - val_loss: 1.2142 - val_acc: 0.8315\n"
          ]
        }
      ]
    },
    {
      "cell_type": "code",
      "source": [
        "model1.compile(loss='categorical_crossentropy',\n",
        "              optimizer=Adam(0.001),\n",
        "              metrics=['acc'])\n",
        "#epochs=10\n",
        "history=model1.fit(X_train, np_utils.to_categorical(Y_train), \n",
        "                  validation_data=(X_test, np_utils.to_categorical(Y_test)), \n",
        "                  epochs=epochs, batch_size=256)"
      ],
      "metadata": {
        "colab": {
          "base_uri": "https://localhost:8080/"
        },
        "id": "ApDhzYjeuL9Q",
        "outputId": "9f771c90-b442-48c1-c910-20b4115e9369"
      },
      "execution_count": 109,
      "outputs": [
        {
          "output_type": "stream",
          "name": "stdout",
          "text": [
            "Epoch 1/10\n",
            "55/55 [==============================] - 25s 394ms/step - loss: 1.0281 - acc: 0.5388 - val_loss: 0.6868 - val_acc: 0.5492\n",
            "Epoch 2/10\n",
            "55/55 [==============================] - 21s 383ms/step - loss: 0.6774 - acc: 0.5753 - val_loss: 0.6644 - val_acc: 0.6032\n",
            "Epoch 3/10\n",
            "55/55 [==============================] - 21s 374ms/step - loss: 0.6399 - acc: 0.6386 - val_loss: 0.6038 - val_acc: 0.6752\n",
            "Epoch 4/10\n",
            "55/55 [==============================] - 20s 373ms/step - loss: 0.4994 - acc: 0.7581 - val_loss: 0.4710 - val_acc: 0.7795\n",
            "Epoch 5/10\n",
            "55/55 [==============================] - 20s 372ms/step - loss: 0.3305 - acc: 0.8607 - val_loss: 0.3649 - val_acc: 0.8403\n",
            "Epoch 6/10\n",
            "55/55 [==============================] - 21s 374ms/step - loss: 0.2301 - acc: 0.9127 - val_loss: 0.3823 - val_acc: 0.8448\n",
            "Epoch 7/10\n",
            "55/55 [==============================] - 20s 373ms/step - loss: 0.1689 - acc: 0.9349 - val_loss: 0.3997 - val_acc: 0.8523\n",
            "Epoch 8/10\n",
            "55/55 [==============================] - 20s 372ms/step - loss: 0.1076 - acc: 0.9638 - val_loss: 0.4906 - val_acc: 0.8500\n",
            "Epoch 9/10\n",
            "55/55 [==============================] - 20s 371ms/step - loss: 0.0625 - acc: 0.9814 - val_loss: 0.5770 - val_acc: 0.8460\n",
            "Epoch 10/10\n",
            "55/55 [==============================] - 20s 372ms/step - loss: 0.0420 - acc: 0.9876 - val_loss: 0.6704 - val_acc: 0.8370\n"
          ]
        }
      ]
    },
    {
      "cell_type": "code",
      "source": [],
      "metadata": {
        "id": "4A-A5wiEGzkw"
      },
      "execution_count": null,
      "outputs": []
    },
    {
      "cell_type": "code",
      "source": [
        "# All\n",
        "model1.compile(loss='categorical_crossentropy',\n",
        "              optimizer=Adam(0.001),\n",
        "              metrics=['acc'])\n",
        "#epochs=10\n",
        "history=model1.fit(X_train, np_utils.to_categorical(Y_train), \n",
        "                  validation_data=(X_test, np_utils.to_categorical(Y_test)), \n",
        "                  epochs=epochs, batch_size=256)"
      ],
      "metadata": {
        "colab": {
          "base_uri": "https://localhost:8080/"
        },
        "outputId": "0fcc8e3c-c5d9-4a5b-89ef-e749ed0388b7",
        "id": "_3kCzdShGzzb"
      },
      "execution_count": 53,
      "outputs": [
        {
          "output_type": "stream",
          "name": "stdout",
          "text": [
            "Epoch 1/10\n",
            "55/55 [==============================] - 24s 377ms/step - loss: 0.5677 - acc: 0.6975 - val_loss: 0.4185 - val_acc: 0.8088\n",
            "Epoch 2/10\n",
            "55/55 [==============================] - 20s 360ms/step - loss: 0.3532 - acc: 0.8488 - val_loss: 0.3306 - val_acc: 0.8610\n",
            "Epoch 3/10\n",
            "55/55 [==============================] - 20s 362ms/step - loss: 0.2470 - acc: 0.9021 - val_loss: 0.3229 - val_acc: 0.8652\n",
            "Epoch 4/10\n",
            "55/55 [==============================] - 21s 374ms/step - loss: 0.1789 - acc: 0.9329 - val_loss: 0.3668 - val_acc: 0.8600\n",
            "Epoch 5/10\n",
            "55/55 [==============================] - 21s 386ms/step - loss: 0.1309 - acc: 0.9521 - val_loss: 0.3856 - val_acc: 0.8753\n",
            "Epoch 6/10\n",
            "55/55 [==============================] - 20s 367ms/step - loss: 0.0883 - acc: 0.9684 - val_loss: 0.5228 - val_acc: 0.8552\n",
            "Epoch 7/10\n",
            "55/55 [==============================] - 21s 374ms/step - loss: 0.0509 - acc: 0.9829 - val_loss: 0.6415 - val_acc: 0.8645\n",
            "Epoch 8/10\n",
            "55/55 [==============================] - 20s 374ms/step - loss: 0.0338 - acc: 0.9895 - val_loss: 0.8282 - val_acc: 0.8530\n",
            "Epoch 9/10\n",
            "55/55 [==============================] - 21s 377ms/step - loss: 0.0470 - acc: 0.9838 - val_loss: 0.6020 - val_acc: 0.8575\n",
            "Epoch 10/10\n",
            "55/55 [==============================] - 21s 382ms/step - loss: 0.0224 - acc: 0.9925 - val_loss: 0.8231 - val_acc: 0.8593\n"
          ]
        }
      ]
    },
    {
      "cell_type": "code",
      "source": [
        "loss,accuracy=model1.evaluate(X_train,np_utils.to_categorical(Y_train))\n",
        "print(\"train_acc= {:.4f}\".format(accuracy))\n",
        "loss, accuracy = model1.evaluate(X_test, np_utils.to_categorical(Y_test))\n",
        "print(\"val_acc= {:.4f}\".format(accuracy))\n",
        "\n",
        "#record\n",
        "history_dict = history.history\n",
        "train_loss = history_dict[\"loss\"]\n",
        "train_accuracy = history_dict[\"acc\"]\n",
        "val_loss = history_dict[\"val_loss\"]\n",
        "val_accuracy = history_dict[\"val_acc\"]\n",
        "\n",
        "#loss\n",
        "plt.figure()\n",
        "plt.plot(range(epochs), train_loss, label='train_loss')\n",
        "plt.plot(range(epochs), val_loss, label='val_loss')\n",
        "plt.title('Loss graph')\n",
        "plt.legend()\n",
        "plt.xlabel('epochs')\n",
        "plt.ylabel('loss')\n",
        "\n",
        "#accuracy\n",
        "plt.figure()\n",
        "plt.plot(range(epochs), train_accuracy, label='train_accuracy')\n",
        "plt.plot(range(epochs), val_accuracy, label='val_accuracy')\n",
        "plt.legend()\n",
        "plt.title(\"Accuracy graph\")\n",
        "plt.xlabel('epochs')\n",
        "plt.ylabel('accuracy')\n",
        "plt.show()"
      ],
      "metadata": {
        "colab": {
          "base_uri": "https://localhost:8080/",
          "height": 644
        },
        "id": "aC38l_4N24sL",
        "outputId": "73d22211-93d0-44b6-b34d-b94ae82b9892"
      },
      "execution_count": 54,
      "outputs": [
        {
          "output_type": "stream",
          "name": "stdout",
          "text": [
            "438/438 [==============================] - 20s 45ms/step - loss: 0.0069 - acc: 0.9985\n",
            "train_acc= 0.9985\n",
            "188/188 [==============================] - 9s 45ms/step - loss: 0.8231 - acc: 0.8593\n",
            "val_acc= 0.8593\n"
          ]
        },
        {
          "output_type": "display_data",
          "data": {
            "text/plain": [
              "<Figure size 432x288 with 1 Axes>"
            ],
            "image/png": "[encoded data removed]"
          },
          "metadata": {
            "needs_background": "light"
          }
        },
        {
          "output_type": "display_data",
          "data": {
            "text/plain": [
              "<Figure size 432x288 with 1 Axes>"
            ],
            "image/png": "[encoded data removed]"
          },
          "metadata": {
            "needs_background": "light"
          }
        }
      ]
    },
    {
      "cell_type": "code",
      "source": [
        "# video_game画图后\n",
        "loss,accuracy=model1.evaluate(X_train,np_utils.to_categorical(Y_train))\n",
        "print(\"train_acc= {:.4f}\".format(accuracy))\n",
        "loss, accuracy = model1.evaluate(X_test, np_utils.to_categorical(Y_test))\n",
        "print(\"val_acc= {:.4f}\".format(accuracy))\n",
        "\n",
        "#record\n",
        "history_dict = history.history\n",
        "train_loss = history_dict[\"loss\"]\n",
        "train_accuracy = history_dict[\"acc\"]\n",
        "val_loss = history_dict[\"val_loss\"]\n",
        "val_accuracy = history_dict[\"val_acc\"]\n",
        "\n",
        "#loss\n",
        "plt.figure()\n",
        "plt.plot(range(epochs), train_loss, label='train_loss')\n",
        "plt.plot(range(epochs), val_loss, label='val_loss')\n",
        "plt.title('Loss graph')\n",
        "plt.legend()\n",
        "plt.xlabel('epochs')\n",
        "plt.ylabel('loss')\n",
        "\n",
        "#accuracy\n",
        "plt.figure()\n",
        "plt.plot(range(epochs), train_accuracy, label='train_accuracy')\n",
        "plt.plot(range(epochs), val_accuracy, label='val_accuracy')\n",
        "plt.legend()\n",
        "plt.title(\"Accuracy graph\")\n",
        "plt.xlabel('epochs')\n",
        "plt.ylabel('accuracy')\n",
        "plt.show()"
      ],
      "metadata": {
        "colab": {
          "base_uri": "https://localhost:8080/",
          "height": 644
        },
        "outputId": "7625ec72-2679-4102-f5f1-0323237c5c72",
        "id": "wgH-coYMMOKO"
      },
      "execution_count": 110,
      "outputs": [
        {
          "output_type": "stream",
          "name": "stdout",
          "text": [
            "438/438 [==============================] - 23s 54ms/step - loss: 0.0315 - acc: 0.9921\n",
            "train_acc= 0.9921\n",
            "188/188 [==============================] - 10s 53ms/step - loss: 0.6704 - acc: 0.8370\n",
            "val_acc= 0.8370\n"
          ]
        },
        {
          "output_type": "display_data",
          "data": {
            "text/plain": [
              "<Figure size 432x288 with 1 Axes>"
            ],
            "image/png": "[encoded data removed]"
          },
          "metadata": {
            "needs_background": "light"
          }
        },
        {
          "output_type": "display_data",
          "data": {
            "text/plain": [
              "<Figure size 432x288 with 1 Axes>"
            ],
            "image/png": "[encoded data removed]"
          },
          "metadata": {
            "needs_background": "light"
          }
        }
      ]
    },
    {
      "cell_type": "code",
      "source": [
        "#health \n",
        "loss,accuracy=model1.evaluate(X_train,np_utils.to_categorical(Y_train))\n",
        "print(\"train_acc= {:.4f}\".format(accuracy))\n",
        "loss, accuracy = model1.evaluate(X_test, np_utils.to_categorical(Y_test))\n",
        "print(\"val_acc= {:.4f}\".format(accuracy))\n",
        "\n",
        "#record\n",
        "history_dict = history.history\n",
        "train_loss = history_dict[\"loss\"]\n",
        "train_accuracy = history_dict[\"acc\"]\n",
        "val_loss = history_dict[\"val_loss\"]\n",
        "val_accuracy = history_dict[\"val_acc\"]\n",
        "\n",
        "#loss\n",
        "plt.figure()\n",
        "plt.plot(range(epochs), train_loss, label='train_loss')\n",
        "plt.plot(range(epochs), val_loss, label='val_loss')\n",
        "plt.title('Loss graph')\n",
        "plt.legend()\n",
        "plt.xlabel('epochs')\n",
        "plt.ylabel('loss')\n",
        "\n",
        "#accuracy\n",
        "plt.figure()\n",
        "plt.plot(range(epochs), train_accuracy, label='train_accuracy')\n",
        "plt.plot(range(epochs), val_accuracy, label='val_accuracy')\n",
        "plt.legend()\n",
        "plt.title(\"Accuracy graph\")\n",
        "plt.xlabel('epochs')\n",
        "plt.ylabel('accuracy')\n",
        "plt.show()"
      ],
      "metadata": {
        "colab": {
          "base_uri": "https://localhost:8080/",
          "height": 644
        },
        "outputId": "80d770a9-2a1b-4359-e1dd-e60e272639bf",
        "id": "uYyxc-VpuT02"
      },
      "execution_count": 63,
      "outputs": [
        {
          "output_type": "stream",
          "name": "stdout",
          "text": [
            "438/438 [==============================] - 23s 53ms/step - loss: 3.4159e-04 - acc: 0.9998\n",
            "train_acc= 0.9998\n",
            "188/188 [==============================] - 10s 54ms/step - loss: 2.0384 - acc: 0.8452\n",
            "val_acc= 0.8452\n"
          ]
        },
        {
          "output_type": "display_data",
          "data": {
            "text/plain": [
              "<Figure size 432x288 with 1 Axes>"
            ],
            "image/png": "[encoded data removed]"
          },
          "metadata": {
            "needs_background": "light"
          }
        },
        {
          "output_type": "display_data",
          "data": {
            "text/plain": [
              "<Figure size 432x288 with 1 Axes>"
            ],
            "image/png": "[encoded data removed]"
          },
          "metadata": {
            "needs_background": "light"
          }
        }
      ]
    },
    {
      "cell_type": "code",
      "source": [
        "print(\"Model prediction...........\")\n",
        "test_pre = model1.predict(X_test)\n",
        "# Evaluate the prediction effect and calculate the confusion matrix\n",
        "confm = metrics.confusion_matrix(Y_test, np.argmax(test_pre, axis=1))\n",
        "print(confm)\n",
        "# Confusion matrix plot\n",
        "Labname = [\"0\", \"1\"]\n",
        "print(metrics.classification_report(Y_test, np.argmax(test_pre, axis=1)))\n",
        "plt.figure(figsize=(8, 8))\n",
        "sns.heatmap(confm.T, square=True, annot=True,\n",
        "            fmt='d', cbar=False, linewidths=.6,\n",
        "            cmap=\"YlGnBu\")\n",
        "plt.xlabel('True label', size=14)\n",
        "plt.ylabel('Predicted label', size=14)\n",
        "plt.xticks(np.arange(2) + 0.5, Labname, size=12)\n",
        "plt.yticks(np.arange(2) + 0.5, Labname, size=12)\n",
        "plt.title('Bi-LSTM_CNN')\n",
        "# plt.savefig('result_lstm_word2vec.png')\n",
        "plt.show()\n",
        "loss, accuracy = model1.evaluate(X_test, np_utils.to_categorical(Y_test))\n",
        "print(\"test_acc= {:.4f}\".format(accuracy))"
      ],
      "metadata": {
        "id": "p59Aet6YmQCM",
        "colab": {
          "base_uri": "https://localhost:8080/",
          "height": 788
        },
        "outputId": "d5521503-617e-4a73-efce-91086c2ffa90"
      },
      "execution_count": 55,
      "outputs": [
        {
          "output_type": "stream",
          "name": "stdout",
          "text": [
            "Model prediction...........\n",
            "188/188 [==============================] - 9s 44ms/step\n",
            "[[2603  393]\n",
            " [ 451 2553]]\n",
            "              precision    recall  f1-score   support\n",
            "\n",
            "         0.0       0.85      0.87      0.86      2996\n",
            "         1.0       0.87      0.85      0.86      3004\n",
            "\n",
            "    accuracy                           0.86      6000\n",
            "   macro avg       0.86      0.86      0.86      6000\n",
            "weighted avg       0.86      0.86      0.86      6000\n",
            "\n"
          ]
        },
        {
          "output_type": "display_data",
          "data": {
            "text/plain": [
              "<Figure size 576x576 with 1 Axes>"
            ],
            "image/png": "[encoded data removed]"
          },
          "metadata": {
            "needs_background": "light"
          }
        },
        {
          "output_type": "stream",
          "name": "stdout",
          "text": [
            "188/188 [==============================] - 9s 46ms/step - loss: 0.8231 - acc: 0.8593\n",
            "test_acc= 0.8593\n"
          ]
        }
      ]
    }
  ],
  "metadata": {
    "colab": {
      "provenance": [],
      "collapsed_sections": [
        "cGSDGvRQJC7O",
        "GJmuIb6PW1BT"
      ]
    },
    "gpuClass": "standard",
    "kernelspec": {
      "display_name": "Python 3 (ipykernel)",
      "language": "python",
      "name": "python3"
    },
    "language_info": {
      "codemirror_mode": {
        "name": "ipython",
        "version": 3
      },
      "file_extension": ".py",
      "mimetype": "text/x-python",
      "name": "python",
      "nbconvert_exporter": "python",
      "pygments_lexer": "ipython3",
      "version": "3.8.12"
    }
  },
  "nbformat": 4,
  "nbformat_minor": 0
}